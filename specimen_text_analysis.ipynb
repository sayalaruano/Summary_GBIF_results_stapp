{
 "cells": [
  {
   "cell_type": "code",
   "execution_count": null,
   "metadata": {
    "colab": {
     "base_uri": "https://localhost:8080/"
    },
    "id": "zgRhLnY-Pv1_",
    "outputId": "ae2a97b7-b753-44e7-e709-20c6a0017a64"
   },
   "outputs": [
    {
     "name": "stdout",
     "output_type": "stream",
     "text": [
      "\u001b[K     |████████████████████████████████| 122kB 2.9MB/s \n",
      "\u001b[K     |████████████████████████████████| 22.3MB 1.3MB/s \n",
      "\u001b[K     |████████████████████████████████| 81kB 9.3MB/s \n",
      "\u001b[K     |████████████████████████████████| 92kB 11.2MB/s \n",
      "\u001b[?25h"
     ]
    }
   ],
   "source": [
    "! pip install human-learn delayed scikit-learn -Uqq"
   ]
  },
  {
   "cell_type": "code",
   "execution_count": null,
   "metadata": {
    "id": "pDN3YZfI-ziy"
   },
   "outputs": [],
   "source": [
    "import io\n",
    "import pandas as pd\n",
    "import matplotlib.pyplot as plt\n",
    "import seaborn as sns\n",
    "\n",
    "from google.colab import files\n",
    "from hulearn.classification import FunctionClassifier\n",
    "from sklearn.model_selection import cross_validate, ShuffleSplit\n",
    "from sklearn.dummy import DummyClassifier\n",
    "from sklearn.feature_extraction.text import TfidfTransformer, CountVectorizer\n",
    "from sklearn.naive_bayes import GaussianNB\n",
    "from sklearn.ensemble import RandomForestClassifier\n",
    "from sklearn.pipeline import Pipeline\n",
    "from sklearn.preprocessing import FunctionTransformer"
   ]
  },
  {
   "cell_type": "markdown",
   "metadata": {
    "id": "uvGkouNcQGUu"
   },
   "source": [
    "# Specimen field notes phenelogy analysis\n",
    "\n",
    "This is just a few experiments to work out how to do predict plant phenology from the notes field of a herbarium specimen."
   ]
  },
  {
   "cell_type": "markdown",
   "metadata": {
    "id": "3A1LBNzdsQY0"
   },
   "source": [
    "## Data\n",
    "\n",
    "The training/evaluation data is a random sample of 1000 records that Jamie has labelled.\n",
    "\n",
    "He's currently in the middle of labelling, so they're partially complete at the moment."
   ]
  },
  {
   "cell_type": "code",
   "execution_count": null,
   "metadata": {
    "colab": {
     "base_uri": "https://localhost:8080/",
     "height": 73,
     "resources": {
      "http://localhost:8080/nbextensions/google.colab/files.js": {
       "data": "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",
       "headers": [
        [
         "content-type",
         "application/javascript"
        ]
       ],
       "ok": true,
       "status": 200,
       "status_text": ""
      }
     }
    },
    "id": "aP3H96Hc-2kI",
    "outputId": "5a224e06-11db-4a86-bd86-46f426335729"
   },
   "outputs": [
    {
     "data": {
      "text/html": [
       "\n",
       "     <input type=\"file\" id=\"files-1ea9f33d-560a-4ab7-bf01-f1722e298912\" name=\"files[]\" multiple disabled\n",
       "        style=\"border:none\" />\n",
       "     <output id=\"result-1ea9f33d-560a-4ab7-bf01-f1722e298912\">\n",
       "      Upload widget is only available when the cell has been executed in the\n",
       "      current browser session. Please rerun this cell to enable.\n",
       "      </output>\n",
       "      <script src=\"/nbextensions/google.colab/files.js\"></script> "
      ],
      "text/plain": [
       "<IPython.core.display.HTML object>"
      ]
     },
     "metadata": {
      "tags": []
     },
     "output_type": "display_data"
    },
    {
     "name": "stdout",
     "output_type": "stream",
     "text": [
      "Saving training_dataset.csv to training_dataset.csv\n"
     ]
    }
   ],
   "source": [
    "uploaded = files.upload()"
   ]
  },
  {
   "cell_type": "code",
   "execution_count": null,
   "metadata": {
    "id": "7513bycotHw1"
   },
   "outputs": [],
   "source": [
    "filename = \"training_dataset.csv\" # this must match the name of the file you uploaded\n",
    "d = pd.read_csv(io.StringIO(uploaded[filename].decode(\"utf-8\")))"
   ]
  },
  {
   "cell_type": "code",
   "execution_count": null,
   "metadata": {
    "colab": {
     "base_uri": "https://localhost:8080/"
    },
    "id": "7TufhjdW_LY4",
    "outputId": "777f10cf-9087-48a7-e8cc-c86369927259"
   },
   "outputs": [
    {
     "name": "stdout",
     "output_type": "stream",
     "text": [
      "<class 'pandas.core.frame.DataFrame'>\n",
      "RangeIndex: 1000 entries, 0 to 999\n",
      "Data columns (total 23 columns):\n",
      " #   Column                  Non-Null Count  Dtype  \n",
      "---  ------                  --------------  -----  \n",
      " 0   family                  1000 non-null   object \n",
      " 1   genus                   1000 non-null   object \n",
      " 2   species                 1000 non-null   object \n",
      " 3   herbarium_id            1000 non-null   object \n",
      " 4   specimen_id             1000 non-null   object \n",
      " 5   field_number            1000 non-null   object \n",
      " 6   collectors              1000 non-null   object \n",
      " 7   collection_date         984 non-null    object \n",
      " 8   year                    984 non-null    float64\n",
      " 9   month                   984 non-null    float64\n",
      " 10  day                     984 non-null    float64\n",
      " 11  locality                1000 non-null   object \n",
      " 12  latitude                899 non-null    float64\n",
      " 13  longitude               900 non-null    float64\n",
      " 14  elevation_min_(m)       919 non-null    float64\n",
      " 15  elevation_max_(m)       268 non-null    float64\n",
      " 16  habitat                 393 non-null    object \n",
      " 17  field_description       1000 non-null   object \n",
      " 18  reproductive_condition  1 non-null      object \n",
      " 19  elevation_min_(m)       60 non-null     float64\n",
      " 20  is_duplicated           1000 non-null   bool   \n",
      " 21  Flower                  203 non-null    object \n",
      " 22  Fruit                   203 non-null    object \n",
      "dtypes: bool(1), float64(8), object(14)\n",
      "memory usage: 173.0+ KB\n"
     ]
    }
   ],
   "source": [
    "d.info()"
   ]
  },
  {
   "cell_type": "markdown",
   "metadata": {
    "id": "rAa_jdWRw5T9"
   },
   "source": [
    "We can see that all of the records have a `field_description`, as they should.\n",
    "\n",
    "The label columns are `Flower` and `Fruit`, both of which are completed for 203 records. Which will do for now."
   ]
  },
  {
   "cell_type": "markdown",
   "metadata": {
    "id": "0JNSbmxf0IQy"
   },
   "source": [
    "To get things into shape for this trial, we'll split the data into predictors and target, with `Flower` as the target."
   ]
  },
  {
   "cell_type": "code",
   "execution_count": null,
   "metadata": {
    "colab": {
     "base_uri": "https://localhost:8080/"
    },
    "id": "K5f_5gAY0Pq9",
    "outputId": "2a2d63a6-5109-40ed-9207-d21a6cf8a803"
   },
   "outputs": [
    {
     "data": {
      "text/plain": [
       "((203, 22), (203,))"
      ]
     },
     "execution_count": 6,
     "metadata": {
      "tags": []
     },
     "output_type": "execute_result"
    }
   ],
   "source": [
    "trial_df = (\n",
    "    d.dropna(subset=[\"Flower\"])\n",
    "      .assign(Flower=lambda x: x.Flower == \"Y\")\n",
    ")\n",
    "\n",
    "X, y = trial_df.drop(columns=[\"Flower\"]), trial_df[\"Flower\"]\n",
    "\n",
    "X.shape, y.shape"
   ]
  },
  {
   "cell_type": "markdown",
   "metadata": {
    "id": "ho8HNuCryTLH"
   },
   "source": [
    "## Predicting phenological state\n",
    "\n",
    "The easiest thing to do is use a list of keywords to get back the phenelogical state.\n",
    "\n",
    "We want to use cross-validation and maybe some standard pre-processing to evaluate how well our methods are working. There's a lot of functionality for this in the [`scikit-learn`](https://scikit-learn.org/) package.\n",
    "\n",
    "To use our own rule-based classifier in this framework, we need to define our own [class of estimator](https://scikit-learn.org/stable/developers/develop.html). This is doable, but a bit of a pain.\n",
    "\n",
    "Luckily, there's a really nice package called [`human-learn`](https://koaning.github.io/human-learn/) that has already implemented a class of estimator that [just accepts a function](https://koaning.github.io/human-learn/guide/function-classifier/function-classifier.html).\n",
    "\n",
    "So all we need to do is define a function that classifies our data based on a list of keywords."
   ]
  },
  {
   "cell_type": "markdown",
   "metadata": {
    "id": "Gyibjec3zpbS"
   },
   "source": [
    "We'll define a function that accepts our dataframe, and a list of keywords.\n",
    "\n",
    "This won't work for any dataframe that doesn't have a column `field_description`, but I think that's fine.\n",
    "\n",
    "We're also splitting the descriptions into separate words, to make sure we aren't getting problems with suffixes and stuff."
   ]
  },
  {
   "cell_type": "code",
   "execution_count": null,
   "metadata": {
    "id": "14pMhMWTMZJq"
   },
   "outputs": [],
   "source": [
    "def keyword_based(df, keywords=None):\n",
    "  if (keywords is None) or not isinstance(keywords, list):\n",
    "    raise ValueError(\"You must provide a list of keywords\")\n",
    "    \n",
    "  return df.field_description.str.split().apply(lambda x: any(word in x for word in keywords)).values.astype(int)"
   ]
  },
  {
   "cell_type": "markdown",
   "metadata": {
    "id": "zau7Am4t0XJO"
   },
   "source": [
    "Now let's try this out with a few key words to make sure everything is working."
   ]
  },
  {
   "cell_type": "code",
   "execution_count": null,
   "metadata": {
    "colab": {
     "base_uri": "https://localhost:8080/"
    },
    "id": "BcRgtUVvKU5o",
    "outputId": "eab85b28-fee0-4673-8154-8de8c94ee3df"
   },
   "outputs": [
    {
     "data": {
      "text/plain": [
       "array([0, 0, 0, 0, 0, 0, 0, 0, 0, 0])"
      ]
     },
     "execution_count": 8,
     "metadata": {
      "tags": []
     },
     "output_type": "execute_result"
    }
   ],
   "source": [
    "keywords = [\"flowers\", \"flower\", \"corolla\", \"calyx\", \"petals\"]\n",
    "\n",
    "keyword_based(X[:10], keywords=keywords)"
   ]
  },
  {
   "cell_type": "markdown",
   "metadata": {
    "id": "58X53qFI0e87"
   },
   "source": [
    "The function works fine, so we can make our classifier out of it."
   ]
  },
  {
   "cell_type": "code",
   "execution_count": null,
   "metadata": {
    "colab": {
     "base_uri": "https://localhost:8080/"
    },
    "id": "mgYTgPZMOYhZ",
    "outputId": "b6e8b41b-b9c0-4f95-8748-563f5199a72f"
   },
   "outputs": [
    {
     "data": {
      "text/plain": [
       "array([0, 0, 0, 0, 0, 0, 0, 0, 0, 0])"
      ]
     },
     "execution_count": 9,
     "metadata": {
      "tags": []
     },
     "output_type": "execute_result"
    }
   ],
   "source": [
    "keyword_clf = FunctionClassifier(keyword_based, keywords=keywords)\n",
    "\n",
    "keyword_clf.fit(X, y).predict(X[:10])"
   ]
  },
  {
   "cell_type": "markdown",
   "metadata": {
    "id": "c5-DP_TG0lFP"
   },
   "source": [
    "The classifier works fine. \n",
    "\n",
    "As an aside, we do a `fit` step, but this doesn't actually do anything - we're not learning anything from the data. It's just convention - sklearn doesn't let you predict with a classifier that hasn't been fit.\n",
    "\n",
    "Now we can run cross-validation and see what it's like."
   ]
  },
  {
   "cell_type": "code",
   "execution_count": null,
   "metadata": {
    "colab": {
     "base_uri": "https://localhost:8080/"
    },
    "id": "ICmU4StSPV-t",
    "outputId": "91d1b595-43f2-4439-a245-2a9ee764ae0c"
   },
   "outputs": [
    {
     "data": {
      "text/plain": [
       "{'fit_time': array([0.00475335, 0.00277805, 0.00167084, 0.00148988, 0.00177526]),\n",
       " 'score_time': array([0.00681901, 0.00252318, 0.00250554, 0.00266957, 0.00237226]),\n",
       " 'test_accuracy': array([0.43902439, 0.51219512, 0.56097561, 0.525     , 0.45      ]),\n",
       " 'test_precision': array([1., 1., 1., 1., 1.]),\n",
       " 'test_recall': array([0.04166667, 0.13043478, 0.2173913 , 0.17391304, 0.04347826])}"
      ]
     },
     "execution_count": 10,
     "metadata": {
      "tags": []
     },
     "output_type": "execute_result"
    }
   ],
   "source": [
    "keyword_scores = cross_validate(keyword_clf, X, y, cv=5, scoring=[\"accuracy\", \"precision\", \"recall\"])\n",
    "keyword_scores"
   ]
  },
  {
   "cell_type": "markdown",
   "metadata": {
    "id": "il-kmRCJ04uW"
   },
   "source": [
    "Pretty much as I'd expect - it's a small set of words that definitely indicate flowering, so we get all positive predictions right but we miss a fair number of things.\n",
    "\n",
    "As a comparison, we'll also make a simple classifier that always predicts the most frequent class in the data."
   ]
  },
  {
   "cell_type": "code",
   "execution_count": null,
   "metadata": {
    "colab": {
     "base_uri": "https://localhost:8080/"
    },
    "id": "s6V4o9KjQYw7",
    "outputId": "6f6c7213-7117-459b-b8e4-45f5eadf3f2c"
   },
   "outputs": [
    {
     "data": {
      "text/plain": [
       "{'fit_time': array([0.00111794, 0.00152659, 0.0011282 , 0.0008564 , 0.00077224]),\n",
       " 'score_time': array([0.00462556, 0.00477052, 0.00210881, 0.00198102, 0.00199914]),\n",
       " 'test_accuracy': array([0.58536585, 0.56097561, 0.56097561, 0.575     , 0.575     ]),\n",
       " 'test_precision': array([0.58536585, 0.56097561, 0.56097561, 0.575     , 0.575     ]),\n",
       " 'test_recall': array([1., 1., 1., 1., 1.])}"
      ]
     },
     "execution_count": 11,
     "metadata": {
      "tags": []
     },
     "output_type": "execute_result"
    }
   ],
   "source": [
    "simple_clf = DummyClassifier(strategy=\"most_frequent\", random_state=123)\n",
    "\n",
    "simple_scores = cross_validate(simple_clf, X, y, cv=5, scoring=[\"accuracy\", \"precision\", \"recall\"])\n",
    "simple_scores"
   ]
  },
  {
   "cell_type": "markdown",
   "metadata": {
    "id": "hvhm9IMq1QKR"
   },
   "source": [
    "And make a utility to put it in a nice table"
   ]
  },
  {
   "cell_type": "code",
   "execution_count": null,
   "metadata": {
    "colab": {
     "base_uri": "https://localhost:8080/",
     "height": 202
    },
    "id": "vEf0tiFhRabX",
    "outputId": "e2ce7814-f7d1-4d7a-8234-e57ad63e2c2a"
   },
   "outputs": [
    {
     "data": {
      "text/html": [
       "<div>\n",
       "<style scoped>\n",
       "    .dataframe tbody tr th:only-of-type {\n",
       "        vertical-align: middle;\n",
       "    }\n",
       "\n",
       "    .dataframe tbody tr th {\n",
       "        vertical-align: top;\n",
       "    }\n",
       "\n",
       "    .dataframe thead th {\n",
       "        text-align: right;\n",
       "    }\n",
       "</style>\n",
       "<table border=\"1\" class=\"dataframe\">\n",
       "  <thead>\n",
       "    <tr style=\"text-align: right;\">\n",
       "      <th></th>\n",
       "      <th>model</th>\n",
       "      <th>fold</th>\n",
       "      <th>measure</th>\n",
       "      <th>score</th>\n",
       "    </tr>\n",
       "  </thead>\n",
       "  <tbody>\n",
       "    <tr>\n",
       "      <th>0</th>\n",
       "      <td>most frequent</td>\n",
       "      <td>0</td>\n",
       "      <td>accuracy</td>\n",
       "      <td>0.585366</td>\n",
       "    </tr>\n",
       "    <tr>\n",
       "      <th>1</th>\n",
       "      <td>most frequent</td>\n",
       "      <td>1</td>\n",
       "      <td>accuracy</td>\n",
       "      <td>0.560976</td>\n",
       "    </tr>\n",
       "    <tr>\n",
       "      <th>2</th>\n",
       "      <td>most frequent</td>\n",
       "      <td>2</td>\n",
       "      <td>accuracy</td>\n",
       "      <td>0.560976</td>\n",
       "    </tr>\n",
       "    <tr>\n",
       "      <th>3</th>\n",
       "      <td>most frequent</td>\n",
       "      <td>3</td>\n",
       "      <td>accuracy</td>\n",
       "      <td>0.575000</td>\n",
       "    </tr>\n",
       "    <tr>\n",
       "      <th>4</th>\n",
       "      <td>most frequent</td>\n",
       "      <td>4</td>\n",
       "      <td>accuracy</td>\n",
       "      <td>0.575000</td>\n",
       "    </tr>\n",
       "  </tbody>\n",
       "</table>\n",
       "</div>"
      ],
      "text/plain": [
       "           model  fold   measure     score\n",
       "0  most frequent     0  accuracy  0.585366\n",
       "1  most frequent     1  accuracy  0.560976\n",
       "2  most frequent     2  accuracy  0.560976\n",
       "3  most frequent     3  accuracy  0.575000\n",
       "4  most frequent     4  accuracy  0.575000"
      ]
     },
     "execution_count": 12,
     "metadata": {
      "tags": []
     },
     "output_type": "execute_result"
    }
   ],
   "source": [
    "def format_cv_results(results, model_name=\"model\"):\n",
    "  results_df = (\n",
    "    pd.DataFrame(results)\n",
    "      .rename(columns=lambda x: x.replace(\"test_\", \"\"))\n",
    "      .assign(model=model_name,\n",
    "              fold=lambda df: df.index.values)\n",
    "      .drop(columns=[\"fit_time\", \"score_time\"])\n",
    "  )\n",
    "\n",
    "  return results_df\n",
    "\n",
    "cv_results = (\n",
    "    pd.concat([format_cv_results(simple_scores, \"most frequent\"),\n",
    "               format_cv_results(keyword_scores, \"keywords\") ])\n",
    "      .melt(id_vars=[\"model\", \"fold\"], var_name=\"measure\", value_name=\"score\")\n",
    ")\n",
    "\n",
    "cv_results.head()"
   ]
  },
  {
   "cell_type": "markdown",
   "metadata": {
    "id": "0y2lQrYH1XJV"
   },
   "source": [
    "So we can do a boxplot of performance."
   ]
  },
  {
   "cell_type": "code",
   "execution_count": null,
   "metadata": {
    "colab": {
     "base_uri": "https://localhost:8080/",
     "height": 297
    },
    "id": "-Wvu9RhLVeRi",
    "outputId": "cf3146dc-7cfa-44b6-b276-7f0e8a826240"
   },
   "outputs": [
    {
     "data": {
      "text/plain": [
       "<matplotlib.axes._subplots.AxesSubplot at 0x7f52c2739250>"
      ]
     },
     "execution_count": 13,
     "metadata": {
      "tags": []
     },
     "output_type": "execute_result"
    },
    {
     "data": {
      "image/png": "[encoded data removed]",
      "text/plain": [
       "<Figure size 432x288 with 1 Axes>"
      ]
     },
     "metadata": {
      "needs_background": "light",
      "tags": []
     },
     "output_type": "display_data"
    }
   ],
   "source": [
    "sns.boxplot(x=\"measure\", y=\"score\", hue=\"model\", data=cv_results)"
   ]
  },
  {
   "cell_type": "markdown",
   "metadata": {
    "id": "h8Mias4h1dNx"
   },
   "source": [
    "Our keyword model is actually worse than just guessing \"not flowering\" for everything.\n",
    "\n",
    "I think we can make a bit of an improvement if we just cast all our descriptions as lower case - \"Flowers\" probably comes at the beginning of the sentence a lot.\n",
    "\n",
    "So let's redefine the function."
   ]
  },
  {
   "cell_type": "code",
   "execution_count": null,
   "metadata": {
    "id": "Y-e8PV4FWM0V"
   },
   "outputs": [],
   "source": [
    "def keyword_based(df, keywords=None, lower_case=False):\n",
    "  if (keywords is None) or not isinstance(keywords, list):\n",
    "    raise ValueError(\"You must provide a list of keywords\")\n",
    "  \n",
    "  notes = df.field_description\n",
    "\n",
    "  if lower_case:\n",
    "    notes = notes.str.lower()\n",
    "  \n",
    "  words = notes.str.split()\n",
    "  return words.apply(lambda x: any(word in x for word in keywords)).values.astype(int)"
   ]
  },
  {
   "cell_type": "markdown",
   "metadata": {
    "id": "S4yPs8cx1wau"
   },
   "source": [
    "And re-run the classifier."
   ]
  },
  {
   "cell_type": "code",
   "execution_count": null,
   "metadata": {
    "colab": {
     "base_uri": "https://localhost:8080/",
     "height": 297
    },
    "id": "SlC6G-h9XeJR",
    "outputId": "58002345-4e11-40ef-b5d1-71eb48d6aae3"
   },
   "outputs": [
    {
     "data": {
      "text/plain": [
       "<matplotlib.axes._subplots.AxesSubplot at 0x7f52ada9f190>"
      ]
     },
     "execution_count": 15,
     "metadata": {
      "tags": []
     },
     "output_type": "execute_result"
    },
    {
     "data": {
      "image/png": "[encoded data removed]",
      "text/plain": [
       "<Figure size 432x288 with 1 Axes>"
      ]
     },
     "metadata": {
      "needs_background": "light",
      "tags": []
     },
     "output_type": "display_data"
    }
   ],
   "source": [
    "keyword_lower_clf = FunctionClassifier(keyword_based, keywords=keywords, lower_case=True)\n",
    "\n",
    "keyword_lower_scores = cross_validate(keyword_lower_clf, X, y, cv=5, scoring=[\"accuracy\", \"precision\", \"recall\"])\n",
    "\n",
    "cv_results = (\n",
    "    pd.concat([format_cv_results(simple_scores, \"most frequent\"),\n",
    "               format_cv_results(keyword_scores, \"keywords (sentence)\"),\n",
    "               format_cv_results(keyword_lower_scores, \"keywords (lower)\"),])\n",
    "      .melt(id_vars=[\"model\", \"fold\"], var_name=\"measure\", value_name=\"score\")\n",
    ")\n",
    "\n",
    "sns.boxplot(x=\"measure\", y=\"score\", hue=\"model\", data=cv_results)"
   ]
  },
  {
   "cell_type": "markdown",
   "metadata": {
    "id": "F1qToW3u145T"
   },
   "source": [
    "Already better!"
   ]
  },
  {
   "cell_type": "markdown",
   "metadata": {
    "id": "-chEHr0z16pV"
   },
   "source": [
    "## Bag of words\n",
    "\n",
    "Just searching for keywords is one way of doing it.\n",
    "\n",
    "But the section of machine learning that focusses on text analysis (natural language processing) has well established ways of pre-processing text to make it easier to put it into models.\n",
    "\n",
    "Because most machine learning models operate on numbers (they're all just a bunch of mathematical operations), one of the main pre-processing steps is converting a piece of text into a set of numbers.\n",
    "\n",
    "This is called vectorisation.\n",
    "\n",
    "One of the simplest vectorisation steps is splitting the text into individual words and counting up the how many times each word appears in each piece of text. This is called a \"bag of words\" because it's like throwing all the words in your training dataset into a bag.\n",
    "\n",
    "This gives a matrix where each column is a word that appears in your training set, each row is an observation (here a specimen notes field), and each cell is the number of times a word appears in a particular observation.\n",
    "\n",
    "`scikit-learn` has a simple implementation of this called `CountVectorizer`. This also has the advantage of doing some other simple pre-processing by default - it makes everything lower case, automatically removes words that appear in every single example, and removes punctuation. There are some other text processing things we might want to do at a later stage, but for now this will work as a starting point."
   ]
  },
  {
   "cell_type": "markdown",
   "metadata": {
    "id": "tWkZAPf6BRsm"
   },
   "source": [
    "After creating the vectoriser, we fit it to our training data. This lets the vectoriser know what words are in our bag. We can fit it and transform our training data in a single step using `fit_transform`."
   ]
  },
  {
   "cell_type": "code",
   "execution_count": null,
   "metadata": {
    "colab": {
     "base_uri": "https://localhost:8080/"
    },
    "id": "ZosaY_y2YN3c",
    "outputId": "6d489098-f475-436b-e4bc-4669bce17495"
   },
   "outputs": [
    {
     "data": {
      "text/plain": [
       "(203, 637)"
      ]
     },
     "execution_count": 7,
     "metadata": {
      "tags": []
     },
     "output_type": "execute_result"
    }
   ],
   "source": [
    "count_vct = CountVectorizer()\n",
    "X_counts = count_vct.fit_transform(X.field_description.values)\n",
    "X_counts.shape"
   ]
  },
  {
   "cell_type": "markdown",
   "metadata": {
    "id": "9YWaGY9TBiCH"
   },
   "source": [
    "This creates a special sparse-matrix type. But we want to use this bag of words to try our keyword method as well, so everything is looking at the same set of data.\n",
    "\n",
    "So we'll make a dataframe out of it. This might cause memory issues if we had a massive corpus."
   ]
  },
  {
   "cell_type": "code",
   "execution_count": null,
   "metadata": {
    "colab": {
     "base_uri": "https://localhost:8080/",
     "height": 355
    },
    "id": "rR7KCw3CYhyI",
    "outputId": "f354552a-6f9e-428c-bf9c-ce5117352194"
   },
   "outputs": [
    {
     "data": {
      "text/html": [
       "<div>\n",
       "<style scoped>\n",
       "    .dataframe tbody tr th:only-of-type {\n",
       "        vertical-align: middle;\n",
       "    }\n",
       "\n",
       "    .dataframe tbody tr th {\n",
       "        vertical-align: top;\n",
       "    }\n",
       "\n",
       "    .dataframe thead th {\n",
       "        text-align: right;\n",
       "    }\n",
       "</style>\n",
       "<table border=\"1\" class=\"dataframe\">\n",
       "  <thead>\n",
       "    <tr style=\"text-align: right;\">\n",
       "      <th></th>\n",
       "      <th>10</th>\n",
       "      <th>100</th>\n",
       "      <th>12</th>\n",
       "      <th>15</th>\n",
       "      <th>1m</th>\n",
       "      <th>20</th>\n",
       "      <th>20m</th>\n",
       "      <th>25</th>\n",
       "      <th>30</th>\n",
       "      <th>3300</th>\n",
       "    </tr>\n",
       "  </thead>\n",
       "  <tbody>\n",
       "    <tr>\n",
       "      <th>0</th>\n",
       "      <td>0</td>\n",
       "      <td>0</td>\n",
       "      <td>0</td>\n",
       "      <td>0</td>\n",
       "      <td>0</td>\n",
       "      <td>0</td>\n",
       "      <td>0</td>\n",
       "      <td>0</td>\n",
       "      <td>0</td>\n",
       "      <td>0</td>\n",
       "    </tr>\n",
       "    <tr>\n",
       "      <th>1</th>\n",
       "      <td>0</td>\n",
       "      <td>0</td>\n",
       "      <td>0</td>\n",
       "      <td>0</td>\n",
       "      <td>0</td>\n",
       "      <td>0</td>\n",
       "      <td>0</td>\n",
       "      <td>0</td>\n",
       "      <td>0</td>\n",
       "      <td>0</td>\n",
       "    </tr>\n",
       "    <tr>\n",
       "      <th>2</th>\n",
       "      <td>0</td>\n",
       "      <td>0</td>\n",
       "      <td>0</td>\n",
       "      <td>0</td>\n",
       "      <td>0</td>\n",
       "      <td>0</td>\n",
       "      <td>0</td>\n",
       "      <td>0</td>\n",
       "      <td>0</td>\n",
       "      <td>0</td>\n",
       "    </tr>\n",
       "    <tr>\n",
       "      <th>3</th>\n",
       "      <td>0</td>\n",
       "      <td>0</td>\n",
       "      <td>0</td>\n",
       "      <td>0</td>\n",
       "      <td>0</td>\n",
       "      <td>0</td>\n",
       "      <td>0</td>\n",
       "      <td>0</td>\n",
       "      <td>0</td>\n",
       "      <td>0</td>\n",
       "    </tr>\n",
       "    <tr>\n",
       "      <th>4</th>\n",
       "      <td>0</td>\n",
       "      <td>0</td>\n",
       "      <td>0</td>\n",
       "      <td>0</td>\n",
       "      <td>0</td>\n",
       "      <td>0</td>\n",
       "      <td>0</td>\n",
       "      <td>0</td>\n",
       "      <td>0</td>\n",
       "      <td>0</td>\n",
       "    </tr>\n",
       "    <tr>\n",
       "      <th>5</th>\n",
       "      <td>0</td>\n",
       "      <td>0</td>\n",
       "      <td>0</td>\n",
       "      <td>0</td>\n",
       "      <td>0</td>\n",
       "      <td>0</td>\n",
       "      <td>0</td>\n",
       "      <td>0</td>\n",
       "      <td>0</td>\n",
       "      <td>0</td>\n",
       "    </tr>\n",
       "    <tr>\n",
       "      <th>6</th>\n",
       "      <td>0</td>\n",
       "      <td>0</td>\n",
       "      <td>0</td>\n",
       "      <td>0</td>\n",
       "      <td>0</td>\n",
       "      <td>0</td>\n",
       "      <td>0</td>\n",
       "      <td>0</td>\n",
       "      <td>0</td>\n",
       "      <td>0</td>\n",
       "    </tr>\n",
       "    <tr>\n",
       "      <th>7</th>\n",
       "      <td>0</td>\n",
       "      <td>0</td>\n",
       "      <td>0</td>\n",
       "      <td>0</td>\n",
       "      <td>0</td>\n",
       "      <td>0</td>\n",
       "      <td>0</td>\n",
       "      <td>0</td>\n",
       "      <td>0</td>\n",
       "      <td>0</td>\n",
       "    </tr>\n",
       "    <tr>\n",
       "      <th>8</th>\n",
       "      <td>0</td>\n",
       "      <td>0</td>\n",
       "      <td>0</td>\n",
       "      <td>0</td>\n",
       "      <td>0</td>\n",
       "      <td>0</td>\n",
       "      <td>0</td>\n",
       "      <td>0</td>\n",
       "      <td>0</td>\n",
       "      <td>0</td>\n",
       "    </tr>\n",
       "    <tr>\n",
       "      <th>9</th>\n",
       "      <td>0</td>\n",
       "      <td>0</td>\n",
       "      <td>0</td>\n",
       "      <td>0</td>\n",
       "      <td>0</td>\n",
       "      <td>0</td>\n",
       "      <td>0</td>\n",
       "      <td>0</td>\n",
       "      <td>0</td>\n",
       "      <td>0</td>\n",
       "    </tr>\n",
       "  </tbody>\n",
       "</table>\n",
       "</div>"
      ],
      "text/plain": [
       "   10  100  12  15  1m  20  20m  25  30  3300\n",
       "0   0    0   0   0   0   0    0   0   0     0\n",
       "1   0    0   0   0   0   0    0   0   0     0\n",
       "2   0    0   0   0   0   0    0   0   0     0\n",
       "3   0    0   0   0   0   0    0   0   0     0\n",
       "4   0    0   0   0   0   0    0   0   0     0\n",
       "5   0    0   0   0   0   0    0   0   0     0\n",
       "6   0    0   0   0   0   0    0   0   0     0\n",
       "7   0    0   0   0   0   0    0   0   0     0\n",
       "8   0    0   0   0   0   0    0   0   0     0\n",
       "9   0    0   0   0   0   0    0   0   0     0"
      ]
     },
     "execution_count": 8,
     "metadata": {
      "tags": []
     },
     "output_type": "execute_result"
    }
   ],
   "source": [
    "X_counts_df = pd.DataFrame(X_counts.toarray(), columns=count_vct.get_feature_names())\n",
    "X_counts_df.iloc[:10, :10]"
   ]
  },
  {
   "cell_type": "markdown",
   "metadata": {
    "id": "Q1LbPpIlB05p"
   },
   "source": [
    "Now we can redefine our keyword function to accept this dataframe. It will just check if any values in columns corresponding to our keywords are greater than 0."
   ]
  },
  {
   "cell_type": "code",
   "execution_count": null,
   "metadata": {
    "colab": {
     "base_uri": "https://localhost:8080/"
    },
    "id": "pk3PA_9QauB2",
    "outputId": "f44cce73-299e-49fa-f6cc-34c38c492803"
   },
   "outputs": [
    {
     "data": {
      "text/plain": [
       "array([0, 0, 1, 1, 0, 0, 0, 0, 1, 0])"
      ]
     },
     "execution_count": 18,
     "metadata": {
      "tags": []
     },
     "output_type": "execute_result"
    }
   ],
   "source": [
    "def keyword_tokens_based(df, keywords=None):\n",
    "  return df.loc[:, df.columns.isin(keywords)].any(axis=1).values.astype(int)\n",
    "\n",
    "keyword_tokens_based(X_counts_df.head(10), keywords)"
   ]
  },
  {
   "cell_type": "markdown",
   "metadata": {
    "id": "COT5YpywCAXr"
   },
   "source": [
    "And then we can check the performance with this new method - realising the difference will be the extra pre-processing steps the vectoriser uses."
   ]
  },
  {
   "cell_type": "code",
   "execution_count": null,
   "metadata": {
    "colab": {
     "base_uri": "https://localhost:8080/",
     "height": 297
    },
    "id": "pr_SIWw2lj5A",
    "outputId": "363e316d-3c5f-4ac3-d8d3-9d77806b7e17"
   },
   "outputs": [
    {
     "data": {
      "text/plain": [
       "<matplotlib.axes._subplots.AxesSubplot at 0x7f52ad4decd0>"
      ]
     },
     "execution_count": 19,
     "metadata": {
      "tags": []
     },
     "output_type": "execute_result"
    },
    {
     "data": {
      "image/png": "[encoded data removed]",
      "text/plain": [
       "<Figure size 432x288 with 1 Axes>"
      ]
     },
     "metadata": {
      "needs_background": "light",
      "tags": []
     },
     "output_type": "display_data"
    }
   ],
   "source": [
    "keyword_token_clf = FunctionClassifier(keyword_tokens_based, keywords=keywords)\n",
    "\n",
    "keyword_token_scores = cross_validate(keyword_token_clf, X_counts_df, y, cv=5, scoring=[\"accuracy\", \"precision\", \"recall\"])\n",
    "\n",
    "cv_results = (\n",
    "    pd.concat([format_cv_results(simple_scores, \"most frequent\"),\n",
    "               format_cv_results(keyword_scores, \"keywords (upper)\"),\n",
    "               format_cv_results(keyword_lower_scores, \"keywords (lower)\"),\n",
    "               format_cv_results(keyword_token_scores, \"keywords (tokens)\"),])\n",
    "      .melt(id_vars=[\"model\", \"fold\"], var_name=\"measure\", value_name=\"score\")\n",
    ")\n",
    "\n",
    "sns.boxplot(x=\"measure\", y=\"score\", hue=\"model\", data=cv_results)"
   ]
  },
  {
   "cell_type": "markdown",
   "metadata": {
    "id": "l1BvrLitChE_"
   },
   "source": [
    "## Machine learning\n",
    "\n",
    "We can use our bag of words as input to machine learning models.\n",
    "\n",
    "We'll try a simple naive bayes to start with."
   ]
  },
  {
   "cell_type": "code",
   "execution_count": null,
   "metadata": {
    "colab": {
     "base_uri": "https://localhost:8080/",
     "height": 279
    },
    "id": "eDjGqLAEa0Pw",
    "outputId": "649078e8-b290-4c17-bfac-b8b28b1a87c4"
   },
   "outputs": [
    {
     "data": {
      "image/png": "[encoded data removed]",
      "text/plain": [
       "<Figure size 432x288 with 1 Axes>"
      ]
     },
     "metadata": {
      "needs_background": "light",
      "tags": []
     },
     "output_type": "display_data"
    }
   ],
   "source": [
    "nb_clf = GaussianNB()\n",
    "\n",
    "nb_scores = cross_validate(nb_clf, X_counts.toarray(), y, cv=5, scoring=[\"accuracy\", \"precision\", \"recall\"])\n",
    "\n",
    "cv_results = (\n",
    "    pd.concat([format_cv_results(simple_scores, \"most frequent\"),\n",
    "               format_cv_results(keyword_token_scores, \"keywords (tokens)\"),\n",
    "               format_cv_results(nb_scores, \"naive bayes\"),])\n",
    "      .melt(id_vars=[\"model\", \"fold\"], var_name=\"measure\", value_name=\"score\")\n",
    ")\n",
    "\n",
    "fig, ax = plt.subplots()\n",
    "\n",
    "sns.boxplot(x=\"measure\", y=\"score\", hue=\"model\", data=cv_results, ax=ax)\n",
    "\n",
    "ax.set_ylim((-0.1, 1.1));"
   ]
  },
  {
   "cell_type": "markdown",
   "metadata": {
    "id": "dOzukMngC8mg"
   },
   "source": [
    "And then we can try a random forest model. Typically this might need some parameter tuning, but usually works well out of the box.\n"
   ]
  },
  {
   "cell_type": "code",
   "execution_count": null,
   "metadata": {
    "colab": {
     "base_uri": "https://localhost:8080/",
     "height": 279
    },
    "id": "Z4KRgeufbv_0",
    "outputId": "717acd4c-c357-442d-df8c-b83d46ea1a2b"
   },
   "outputs": [
    {
     "data": {
      "image/png": "[encoded data removed]",
      "text/plain": [
       "<Figure size 432x288 with 1 Axes>"
      ]
     },
     "metadata": {
      "needs_background": "light",
      "tags": []
     },
     "output_type": "display_data"
    }
   ],
   "source": [
    "rf_clf = RandomForestClassifier()\n",
    "\n",
    "rf_scores = cross_validate(rf_clf, X_counts.toarray(), y, cv=5, scoring=[\"accuracy\", \"precision\", \"recall\"])\n",
    "\n",
    "cv_results = (\n",
    "    pd.concat([format_cv_results(simple_scores, \"most frequent\"),\n",
    "               format_cv_results(keyword_token_scores, \"keywords (tokens)\"),\n",
    "               format_cv_results(nb_scores, \"naive bayes\"),\n",
    "               format_cv_results(rf_scores, \"random forest\"),])\n",
    "      .melt(id_vars=[\"model\", \"fold\"], var_name=\"measure\", value_name=\"score\")\n",
    ")\n",
    "\n",
    "fig, ax = plt.subplots()\n",
    "\n",
    "sns.boxplot(x=\"measure\", y=\"score\", hue=\"model\", data=cv_results, ax=ax)\n",
    "\n",
    "ax.set_ylim((-0.1, 1.1));"
   ]
  },
  {
   "cell_type": "markdown",
   "metadata": {
    "id": "d6-AooGLDQof"
   },
   "source": [
    "One nice thing about random forest classifiers is we can use feature importance to get an idea of which words are most important to the performance of the classifier."
   ]
  },
  {
   "cell_type": "code",
   "execution_count": null,
   "metadata": {
    "colab": {
     "base_uri": "https://localhost:8080/",
     "height": 295
    },
    "id": "9n2CuQy2cU8b",
    "outputId": "a99fe7de-b251-412b-d011-776d79398229"
   },
   "outputs": [
    {
     "data": {
      "image/png": "[encoded data removed]",
      "text/plain": [
       "<Figure size 432x288 with 1 Axes>"
      ]
     },
     "metadata": {
      "needs_background": "light",
      "tags": []
     },
     "output_type": "display_data"
    }
   ],
   "source": [
    "rf_clf.fit(X_counts.toarray(), y)\n",
    "\n",
    "fig, ax = plt.subplots()\n",
    "pd.Series(rf_clf.feature_importances_, index=count_vct.get_feature_names()).sort_values(ascending=False).head(20).plot.barh(ax=ax)\n",
    "ax.invert_yaxis()\n",
    "ax.set_xlabel(\"Change in GINI\")\n",
    "ax.set_title(\"Random forest feature importance: impurity\");"
   ]
  },
  {
   "cell_type": "code",
   "execution_count": null,
   "metadata": {
    "id": "sG0lsXc1AaMK"
   },
   "outputs": [],
   "source": [
    "from nltk.corpus import stopwords\n",
    "import nltk"
   ]
  },
  {
   "cell_type": "code",
   "execution_count": null,
   "metadata": {
    "colab": {
     "base_uri": "https://localhost:8080/"
    },
    "id": "gGA0yvJ_AkM1",
    "outputId": "48cfb70d-366f-4a9e-9757-3cc17c5d5fca"
   },
   "outputs": [
    {
     "name": "stdout",
     "output_type": "stream",
     "text": [
      "[nltk_data] Downloading package stopwords to /root/nltk_data...\n",
      "[nltk_data]   Unzipping corpora/stopwords.zip.\n"
     ]
    },
    {
     "data": {
      "text/plain": [
       "True"
      ]
     },
     "execution_count": 24,
     "metadata": {
      "tags": []
     },
     "output_type": "execute_result"
    }
   ],
   "source": [
    "nltk.download('stopwords')"
   ]
  },
  {
   "cell_type": "code",
   "execution_count": null,
   "metadata": {
    "id": "tf4_xOtMAmpo"
   },
   "outputs": [],
   "source": [
    "import nltk"
   ]
  },
  {
   "cell_type": "code",
   "execution_count": null,
   "metadata": {
    "colab": {
     "base_uri": "https://localhost:8080/"
    },
    "id": "kZd2ceJWApWV",
    "outputId": "d1ba6c95-ba92-4816-8503-dfecdcaeef5a"
   },
   "outputs": [
    {
     "data": {
      "text/plain": [
       "['i', 'me', 'my', 'myself', 'we', 'our', 'ours', 'ourselves', 'you', \"you're\"]"
      ]
     },
     "execution_count": 26,
     "metadata": {
      "tags": []
     },
     "output_type": "execute_result"
    }
   ],
   "source": [
    "stopwords.words(\"english\")[:10]"
   ]
  },
  {
   "cell_type": "code",
   "execution_count": null,
   "metadata": {
    "colab": {
     "base_uri": "https://localhost:8080/"
    },
    "id": "iqR1R6p0A01v",
    "outputId": "b727ef2f-caa3-4663-8d70-ba2fc9146875"
   },
   "outputs": [
    {
     "data": {
      "text/plain": [
       "['de', 'la', 'que', 'el', 'en', 'y', 'a', 'los', 'del', 'se']"
      ]
     },
     "execution_count": 27,
     "metadata": {
      "tags": []
     },
     "output_type": "execute_result"
    }
   ],
   "source": [
    "stopwords.words(\"spanish\")[:10]"
   ]
  },
  {
   "cell_type": "code",
   "execution_count": null,
   "metadata": {
    "colab": {
     "base_uri": "https://localhost:8080/"
    },
    "id": "pMn-z0shA2ng",
    "outputId": "5046153f-aceb-476a-d65c-af99f3c6aaf2"
   },
   "outputs": [
    {
     "data": {
      "text/plain": [
       "Index(['above', 'against', 'an', 'and', 'are', 'at', 'be', 'below', 'but',\n",
       "       'few', 'for', 'from', 'in', 'is', 'it', 'more', 'most', 'no', 'of',\n",
       "       'on', 'only', 'or', 'over', 'some', 'than', 'the', 'to', 'up', 'very',\n",
       "       'when', 'with'],\n",
       "      dtype='object')"
      ]
     },
     "execution_count": 28,
     "metadata": {
      "tags": []
     },
     "output_type": "execute_result"
    }
   ],
   "source": [
    "X_counts_df.columns[X_counts_df.columns.isin(stopwords.words(\"english\"))]"
   ]
  },
  {
   "cell_type": "code",
   "execution_count": null,
   "metadata": {
    "colab": {
     "base_uri": "https://localhost:8080/"
    },
    "id": "7Q5kSdbRH-1d",
    "outputId": "95d7c204-567a-40f0-c0d2-10becb72d6ec"
   },
   "outputs": [
    {
     "data": {
      "text/plain": [
       "Index(['antes', 'con', 'de', 'del', 'donde', 'el', 'en', 'entre', 'es', 'la',\n",
       "       'las', 'les', 'los', 'muy', 'más', 'no', 'para', 'poco', 'que', 'se',\n",
       "       'sin', 'son', 'sus', 'una', 'unos'],\n",
       "      dtype='object')"
      ]
     },
     "execution_count": 29,
     "metadata": {
      "tags": []
     },
     "output_type": "execute_result"
    }
   ],
   "source": [
    "X_counts_df.columns[X_counts_df.columns.isin(stopwords.words(\"spanish\"))]"
   ]
  },
  {
   "cell_type": "code",
   "execution_count": null,
   "metadata": {
    "colab": {
     "base_uri": "https://localhost:8080/"
    },
    "id": "X9BCb2hnIFqk",
    "outputId": "e9db035b-7fdb-42cb-9c75-1ace2decd7ad"
   },
   "outputs": [
    {
     "data": {
      "text/plain": [
       "Index(['an', 'des', 'es', 'in'], dtype='object')"
      ]
     },
     "execution_count": 30,
     "metadata": {
      "tags": []
     },
     "output_type": "execute_result"
    }
   ],
   "source": [
    "X_counts_df.columns[X_counts_df.columns.isin(stopwords.words(\"german\"))]"
   ]
  },
  {
   "cell_type": "code",
   "execution_count": null,
   "metadata": {
    "colab": {
     "base_uri": "https://localhost:8080/"
    },
    "id": "O6-jMePvmKWQ",
    "outputId": "c5ea7a54-f302-4f50-e641-751c87d226b8"
   },
   "outputs": [
    {
     "data": {
      "text/plain": [
       "Index(['avec', 'de', 'des', 'en', 'es', 'et', 'la', 'les', 'même', 'on', 'par',\n",
       "       'que', 'se', 'son', 'sur', 'étant'],\n",
       "      dtype='object')"
      ]
     },
     "execution_count": 31,
     "metadata": {
      "tags": []
     },
     "output_type": "execute_result"
    }
   ],
   "source": [
    "X_counts_df.columns[X_counts_df.columns.isin(stopwords.words(\"french\"))]"
   ]
  },
  {
   "cell_type": "code",
   "execution_count": null,
   "metadata": {
    "colab": {
     "base_uri": "https://localhost:8080/"
    },
    "id": "nPSl4dCIm0ea",
    "outputId": "718fc005-fdd7-4cea-d63d-d6fdf2ff5c1c"
   },
   "outputs": [
    {
     "data": {
      "text/plain": [
       "(203, 575)"
      ]
     },
     "execution_count": 32,
     "metadata": {
      "tags": []
     },
     "output_type": "execute_result"
    }
   ],
   "source": [
    "stop_words = stopwords.words(\"french\") + stopwords.words(\"english\") + stopwords.words(\"spanish\")\n",
    "count_vct_stops = CountVectorizer(stop_words=stop_words)\n",
    "\n",
    "X_counts_stop = count_vct_stops.fit_transform(X.field_description.values)\n",
    "X_counts_stop.shape"
   ]
  },
  {
   "cell_type": "code",
   "execution_count": null,
   "metadata": {
    "colab": {
     "base_uri": "https://localhost:8080/",
     "height": 355
    },
    "id": "YkQPYZHBnHZK",
    "outputId": "37756b97-53de-4020-9084-dfbe733ff1b7"
   },
   "outputs": [
    {
     "data": {
      "text/html": [
       "<div>\n",
       "<style scoped>\n",
       "    .dataframe tbody tr th:only-of-type {\n",
       "        vertical-align: middle;\n",
       "    }\n",
       "\n",
       "    .dataframe tbody tr th {\n",
       "        vertical-align: top;\n",
       "    }\n",
       "\n",
       "    .dataframe thead th {\n",
       "        text-align: right;\n",
       "    }\n",
       "</style>\n",
       "<table border=\"1\" class=\"dataframe\">\n",
       "  <thead>\n",
       "    <tr style=\"text-align: right;\">\n",
       "      <th></th>\n",
       "      <th>10</th>\n",
       "      <th>100</th>\n",
       "      <th>12</th>\n",
       "      <th>15</th>\n",
       "      <th>1m</th>\n",
       "      <th>20</th>\n",
       "      <th>20m</th>\n",
       "      <th>25</th>\n",
       "      <th>30</th>\n",
       "      <th>3300</th>\n",
       "    </tr>\n",
       "  </thead>\n",
       "  <tbody>\n",
       "    <tr>\n",
       "      <th>0</th>\n",
       "      <td>0</td>\n",
       "      <td>0</td>\n",
       "      <td>0</td>\n",
       "      <td>0</td>\n",
       "      <td>0</td>\n",
       "      <td>0</td>\n",
       "      <td>0</td>\n",
       "      <td>0</td>\n",
       "      <td>0</td>\n",
       "      <td>0</td>\n",
       "    </tr>\n",
       "    <tr>\n",
       "      <th>1</th>\n",
       "      <td>0</td>\n",
       "      <td>0</td>\n",
       "      <td>0</td>\n",
       "      <td>0</td>\n",
       "      <td>0</td>\n",
       "      <td>0</td>\n",
       "      <td>0</td>\n",
       "      <td>0</td>\n",
       "      <td>0</td>\n",
       "      <td>0</td>\n",
       "    </tr>\n",
       "    <tr>\n",
       "      <th>2</th>\n",
       "      <td>0</td>\n",
       "      <td>0</td>\n",
       "      <td>0</td>\n",
       "      <td>0</td>\n",
       "      <td>0</td>\n",
       "      <td>0</td>\n",
       "      <td>0</td>\n",
       "      <td>0</td>\n",
       "      <td>0</td>\n",
       "      <td>0</td>\n",
       "    </tr>\n",
       "    <tr>\n",
       "      <th>3</th>\n",
       "      <td>0</td>\n",
       "      <td>0</td>\n",
       "      <td>0</td>\n",
       "      <td>0</td>\n",
       "      <td>0</td>\n",
       "      <td>0</td>\n",
       "      <td>0</td>\n",
       "      <td>0</td>\n",
       "      <td>0</td>\n",
       "      <td>0</td>\n",
       "    </tr>\n",
       "    <tr>\n",
       "      <th>4</th>\n",
       "      <td>0</td>\n",
       "      <td>0</td>\n",
       "      <td>0</td>\n",
       "      <td>0</td>\n",
       "      <td>0</td>\n",
       "      <td>0</td>\n",
       "      <td>0</td>\n",
       "      <td>0</td>\n",
       "      <td>0</td>\n",
       "      <td>0</td>\n",
       "    </tr>\n",
       "    <tr>\n",
       "      <th>5</th>\n",
       "      <td>0</td>\n",
       "      <td>0</td>\n",
       "      <td>0</td>\n",
       "      <td>0</td>\n",
       "      <td>0</td>\n",
       "      <td>0</td>\n",
       "      <td>0</td>\n",
       "      <td>0</td>\n",
       "      <td>0</td>\n",
       "      <td>0</td>\n",
       "    </tr>\n",
       "    <tr>\n",
       "      <th>6</th>\n",
       "      <td>0</td>\n",
       "      <td>0</td>\n",
       "      <td>0</td>\n",
       "      <td>0</td>\n",
       "      <td>0</td>\n",
       "      <td>0</td>\n",
       "      <td>0</td>\n",
       "      <td>0</td>\n",
       "      <td>0</td>\n",
       "      <td>0</td>\n",
       "    </tr>\n",
       "    <tr>\n",
       "      <th>7</th>\n",
       "      <td>0</td>\n",
       "      <td>0</td>\n",
       "      <td>0</td>\n",
       "      <td>0</td>\n",
       "      <td>0</td>\n",
       "      <td>0</td>\n",
       "      <td>0</td>\n",
       "      <td>0</td>\n",
       "      <td>0</td>\n",
       "      <td>0</td>\n",
       "    </tr>\n",
       "    <tr>\n",
       "      <th>8</th>\n",
       "      <td>0</td>\n",
       "      <td>0</td>\n",
       "      <td>0</td>\n",
       "      <td>0</td>\n",
       "      <td>0</td>\n",
       "      <td>0</td>\n",
       "      <td>0</td>\n",
       "      <td>0</td>\n",
       "      <td>0</td>\n",
       "      <td>0</td>\n",
       "    </tr>\n",
       "    <tr>\n",
       "      <th>9</th>\n",
       "      <td>0</td>\n",
       "      <td>0</td>\n",
       "      <td>0</td>\n",
       "      <td>0</td>\n",
       "      <td>0</td>\n",
       "      <td>0</td>\n",
       "      <td>0</td>\n",
       "      <td>0</td>\n",
       "      <td>0</td>\n",
       "      <td>0</td>\n",
       "    </tr>\n",
       "  </tbody>\n",
       "</table>\n",
       "</div>"
      ],
      "text/plain": [
       "   10  100  12  15  1m  20  20m  25  30  3300\n",
       "0   0    0   0   0   0   0    0   0   0     0\n",
       "1   0    0   0   0   0   0    0   0   0     0\n",
       "2   0    0   0   0   0   0    0   0   0     0\n",
       "3   0    0   0   0   0   0    0   0   0     0\n",
       "4   0    0   0   0   0   0    0   0   0     0\n",
       "5   0    0   0   0   0   0    0   0   0     0\n",
       "6   0    0   0   0   0   0    0   0   0     0\n",
       "7   0    0   0   0   0   0    0   0   0     0\n",
       "8   0    0   0   0   0   0    0   0   0     0\n",
       "9   0    0   0   0   0   0    0   0   0     0"
      ]
     },
     "execution_count": 33,
     "metadata": {
      "tags": []
     },
     "output_type": "execute_result"
    }
   ],
   "source": [
    "X_counts_stop_df = pd.DataFrame(X_counts_stop.toarray(), columns=count_vct_stops.get_feature_names())\n",
    "X_counts_stop_df.iloc[:10, :10]"
   ]
  },
  {
   "cell_type": "code",
   "execution_count": null,
   "metadata": {
    "colab": {
     "base_uri": "https://localhost:8080/",
     "height": 279
    },
    "id": "-mfkbbA0nhGx",
    "outputId": "57e34618-c486-4378-e265-8bd056ef6654"
   },
   "outputs": [
    {
     "data": {
      "image/png": "[encoded data removed]",
      "text/plain": [
       "<Figure size 432x288 with 1 Axes>"
      ]
     },
     "metadata": {
      "needs_background": "light",
      "tags": []
     },
     "output_type": "display_data"
    }
   ],
   "source": [
    "rf_stops_clf = RandomForestClassifier()\n",
    "rf_stops_scores = cross_validate(rf_stops_clf, X_counts_stop.toarray(), y, cv=5, scoring=[\"accuracy\", \"precision\", \"recall\"])\n",
    "\n",
    "cv_results = (\n",
    "    pd.concat([format_cv_results(rf_stops_scores, \"random forest (no stops)\"),\n",
    "               format_cv_results(rf_scores, \"random forest\"),])\n",
    "      .melt(id_vars=[\"model\", \"fold\"], var_name=\"measure\", value_name=\"score\")\n",
    ")\n",
    "\n",
    "fig, ax = plt.subplots()\n",
    "\n",
    "sns.boxplot(x=\"measure\", y=\"score\", hue=\"model\", data=cv_results, ax=ax)\n",
    "\n",
    "ax.set_ylim((-0.1, 1.1));"
   ]
  },
  {
   "cell_type": "code",
   "execution_count": null,
   "metadata": {
    "colab": {
     "base_uri": "https://localhost:8080/",
     "height": 621
    },
    "id": "RHTDQqMDoH1Q",
    "outputId": "8236b008-b5a8-41bc-9122-3c12ec7f6d98"
   },
   "outputs": [
    {
     "data": {
      "image/png": "[encoded data removed]",
      "text/plain": [
       "<Figure size 360x720 with 1 Axes>"
      ]
     },
     "metadata": {
      "needs_background": "light",
      "tags": []
     },
     "output_type": "display_data"
    }
   ],
   "source": [
    "rf_stops_clf.fit(X_counts_stop.toarray(), y)\n",
    "\n",
    "fig, ax = plt.subplots(figsize=(5,10))\n",
    "pd.Series(rf_stops_clf.feature_importances_, index=count_vct_stops.get_feature_names()).sort_values(ascending=False).head(50).plot.barh(ax=ax)\n",
    "ax.invert_yaxis()\n",
    "ax.set_xlabel(\"Change in GINI\")\n",
    "ax.set_title(\"Random forest feature importance: impurity\");"
   ]
  },
  {
   "cell_type": "code",
   "execution_count": null,
   "metadata": {
    "colab": {
     "base_uri": "https://localhost:8080/"
    },
    "id": "EhcBgy0DoYDh",
    "outputId": "397e1b8f-b0ff-447e-b334-fe803477c88e"
   },
   "outputs": [
    {
     "data": {
      "text/plain": [
       "(203, 637)"
      ]
     },
     "execution_count": 36,
     "metadata": {
      "tags": []
     },
     "output_type": "execute_result"
    }
   ],
   "source": [
    "count_vct_binary = CountVectorizer(binary=True)\n",
    "\n",
    "X_counts_binary = count_vct_binary.fit_transform(X.field_description.values)\n",
    "X_counts_binary.shape"
   ]
  },
  {
   "cell_type": "code",
   "execution_count": null,
   "metadata": {
    "colab": {
     "base_uri": "https://localhost:8080/",
     "height": 279
    },
    "id": "N8mD8iz_jpZM",
    "outputId": "0a7de33c-f932-44d1-db7d-aa03c670b94d"
   },
   "outputs": [
    {
     "data": {
      "image/png": "[encoded data removed]",
      "text/plain": [
       "<Figure size 432x288 with 1 Axes>"
      ]
     },
     "metadata": {
      "needs_background": "light",
      "tags": []
     },
     "output_type": "display_data"
    }
   ],
   "source": [
    "rf_binary_clf = RandomForestClassifier()\n",
    "rf_binary_scores = cross_validate(rf_binary_clf, X_counts_binary.toarray(), y, cv=5, scoring=[\"accuracy\", \"precision\", \"recall\"])\n",
    "\n",
    "cv_results = (\n",
    "    pd.concat([format_cv_results(rf_binary_scores, \"random forest (binary)\"),\n",
    "               format_cv_results(rf_stops_scores, \"random forest (no stops)\"),\n",
    "               format_cv_results(rf_scores, \"random forest\"),])\n",
    "      .melt(id_vars=[\"model\", \"fold\"], var_name=\"measure\", value_name=\"score\")\n",
    ")\n",
    "\n",
    "fig, ax = plt.subplots()\n",
    "\n",
    "sns.boxplot(x=\"measure\", y=\"score\", hue=\"model\", data=cv_results, ax=ax)\n",
    "\n",
    "ax.set_ylim((-0.1, 1.1));"
   ]
  },
  {
   "cell_type": "code",
   "execution_count": null,
   "metadata": {
    "colab": {
     "base_uri": "https://localhost:8080/"
    },
    "id": "wLRsjYxmj0Tf",
    "outputId": "c490d7c5-6652-42c5-9533-21bbf40d6934"
   },
   "outputs": [
    {
     "data": {
      "text/plain": [
       "(203, 1737)"
      ]
     },
     "execution_count": 38,
     "metadata": {
      "tags": []
     },
     "output_type": "execute_result"
    }
   ],
   "source": [
    "count_vct_bi_uni = CountVectorizer(binary=True, ngram_range=(1,2))\n",
    "\n",
    "X_counts_bi_uni = count_vct_bi_uni.fit_transform(X.field_description.values)\n",
    "X_counts_bi_uni.shape"
   ]
  },
  {
   "cell_type": "code",
   "execution_count": null,
   "metadata": {
    "colab": {
     "base_uri": "https://localhost:8080/",
     "height": 279
    },
    "id": "T4-lMNkSoDul",
    "outputId": "fae4c889-f40d-4743-aecb-8710a300bf30"
   },
   "outputs": [
    {
     "data": {
      "image/png": "[encoded data removed]",
      "text/plain": [
       "<Figure size 432x288 with 1 Axes>"
      ]
     },
     "metadata": {
      "needs_background": "light",
      "tags": []
     },
     "output_type": "display_data"
    }
   ],
   "source": [
    "rf_biuni_clf = RandomForestClassifier()\n",
    "rf_biuni_scores = cross_validate(rf_biuni_clf, X_counts_bi_uni.toarray(), y, cv=5, scoring=[\"accuracy\", \"precision\", \"recall\"])\n",
    "\n",
    "cv_results = (\n",
    "    pd.concat([format_cv_results(rf_biuni_scores, \"random forest (bi+unigrams)\"),\n",
    "               format_cv_results(rf_binary_scores, \"random forest (binary)\"),\n",
    "               format_cv_results(rf_stops_scores, \"random forest (no stops)\"),\n",
    "               format_cv_results(rf_scores, \"random forest\"),])\n",
    "      .melt(id_vars=[\"model\", \"fold\"], var_name=\"measure\", value_name=\"score\")\n",
    ")\n",
    "\n",
    "fig, ax = plt.subplots()\n",
    "\n",
    "sns.boxplot(x=\"measure\", y=\"score\", hue=\"model\", data=cv_results, ax=ax)\n",
    "\n",
    "ax.set_ylim((-0.1, 1.1));"
   ]
  },
  {
   "cell_type": "code",
   "execution_count": null,
   "metadata": {
    "colab": {
     "base_uri": "https://localhost:8080/",
     "height": 621
    },
    "id": "JyY-N5EtoNpW",
    "outputId": "39f571ce-e5ed-4837-ac9a-9439c62b1a98"
   },
   "outputs": [
    {
     "data": {
      "image/png": "[encoded data removed]",
      "text/plain": [
       "<Figure size 360x720 with 1 Axes>"
      ]
     },
     "metadata": {
      "needs_background": "light",
      "tags": []
     },
     "output_type": "display_data"
    }
   ],
   "source": [
    "rf_biuni_clf.fit(X_counts_bi_uni.toarray(), y)\n",
    "\n",
    "fig, ax = plt.subplots(figsize=(5,10))\n",
    "pd.Series(rf_biuni_clf.feature_importances_, index=count_vct_bi_uni.get_feature_names()).sort_values(ascending=False).head(50).plot.barh(ax=ax)\n",
    "ax.invert_yaxis()\n",
    "ax.set_xlabel(\"Change in GINI\")\n",
    "ax.set_title(\"Random forest feature importance: impurity\");"
   ]
  },
  {
   "cell_type": "markdown",
   "metadata": {
    "id": "5w8LnlxJtNx1"
   },
   "source": [
    "## Actually doing the process including permuation feature importance"
   ]
  },
  {
   "cell_type": "code",
   "execution_count": null,
   "metadata": {
    "id": "IvvMYm_0OIMc"
   },
   "outputs": [],
   "source": [
    "def sparse_to_df(sparse, col_names=None):\n",
    "  return pd.DataFrame(sparse.toarray(), columns=col_names)"
   ]
  },
  {
   "cell_type": "code",
   "execution_count": null,
   "metadata": {
    "colab": {
     "base_uri": "https://localhost:8080/",
     "height": 235
    },
    "id": "R6f84Y8gp02t",
    "outputId": "bf6a36b3-8b54-4f67-c553-da53cd313bf4"
   },
   "outputs": [
    {
     "ename": "NameError",
     "evalue": "ignored",
     "output_type": "error",
     "traceback": [
      "\u001b[0;31m---------------------------------------------------------------------------\u001b[0m",
      "\u001b[0;31mNameError\u001b[0m                                 Traceback (most recent call last)",
      "\u001b[0;32m<ipython-input-10-1b2959cd41d2>\u001b[0m in \u001b[0;36m<module>\u001b[0;34m()\u001b[0m\n\u001b[1;32m      5\u001b[0m \u001b[0;34m\u001b[0m\u001b[0m\n\u001b[1;32m      6\u001b[0m keyword_pipe = Pipeline([\n\u001b[0;32m----> 7\u001b[0;31m                          \u001b[0;34m(\u001b[0m\u001b[0;34m\"vect\"\u001b[0m\u001b[0;34m,\u001b[0m \u001b[0mCountVectorizer\u001b[0m\u001b[0;34m(\u001b[0m\u001b[0mvocabulary\u001b[0m\u001b[0;34m=\u001b[0m\u001b[0mkeywords\u001b[0m\u001b[0;34m)\u001b[0m\u001b[0;34m)\u001b[0m\u001b[0;34m,\u001b[0m\u001b[0;34m\u001b[0m\u001b[0;34m\u001b[0m\u001b[0m\n\u001b[0m\u001b[1;32m      8\u001b[0m                          \u001b[0;34m(\u001b[0m\u001b[0;34m\"to_df\"\u001b[0m\u001b[0;34m,\u001b[0m \u001b[0mFunctionTransformer\u001b[0m\u001b[0;34m(\u001b[0m\u001b[0;32mlambda\u001b[0m \u001b[0mx\u001b[0m\u001b[0;34m:\u001b[0m \u001b[0msparse_to_df\u001b[0m\u001b[0;34m(\u001b[0m\u001b[0mx\u001b[0m\u001b[0;34m,\u001b[0m \u001b[0mcol_names\u001b[0m\u001b[0;34m=\u001b[0m\u001b[0mkeywords\u001b[0m\u001b[0;34m)\u001b[0m\u001b[0;34m)\u001b[0m\u001b[0;34m)\u001b[0m\u001b[0;34m,\u001b[0m\u001b[0;34m\u001b[0m\u001b[0;34m\u001b[0m\u001b[0m\n\u001b[1;32m      9\u001b[0m                          \u001b[0;34m(\u001b[0m\u001b[0;34m\"clf\"\u001b[0m\u001b[0;34m,\u001b[0m \u001b[0mFunctionClassifier\u001b[0m\u001b[0;34m(\u001b[0m\u001b[0mkeyword_tokens_based\u001b[0m\u001b[0;34m,\u001b[0m \u001b[0mkeywords\u001b[0m\u001b[0;34m=\u001b[0m\u001b[0mkeywords\u001b[0m\u001b[0;34m)\u001b[0m\u001b[0;34m)\u001b[0m\u001b[0;34m\u001b[0m\u001b[0;34m\u001b[0m\u001b[0m\n",
      "\u001b[0;31mNameError\u001b[0m: name 'keywords' is not defined"
     ]
    }
   ],
   "source": [
    "simple_pipe = Pipeline([\n",
    "                        (\"vect\", CountVectorizer()),\n",
    "                        (\"clf\", DummyClassifier(strategy=\"most_frequent\"))\n",
    "])\n",
    "\n",
    "keyword_pipe = Pipeline([\n",
    "                         (\"vect\", CountVectorizer(vocabulary=keywords)),\n",
    "                         (\"to_df\", FunctionTransformer(lambda x: sparse_to_df(x, col_names=keywords))),\n",
    "                         (\"clf\", FunctionClassifier(keyword_tokens_based, keywords=keywords))\n",
    "])\n",
    "\n",
    "rf_pipe = Pipeline([\n",
    "                         (\"vect\", CountVectorizer()),\n",
    "                         (\"clf\", RandomForestClassifier())\n",
    "])"
   ]
  },
  {
   "cell_type": "code",
   "execution_count": null,
   "metadata": {
    "id": "ahUyRrkKWJU1"
   },
   "outputs": [],
   "source": [
    "rf_pipe = Pipeline([\n",
    "                         (\"vect\", CountVectorizer()),\n",
    "                         (\"clf\", RandomForestClassifier())\n",
    "])"
   ]
  },
  {
   "cell_type": "code",
   "execution_count": null,
   "metadata": {
    "colab": {
     "base_uri": "https://localhost:8080/"
    },
    "id": "mG_YrW_NWKtR",
    "outputId": "f428d20e-65de-4a33-e30e-dc41ca9555b2"
   },
   "outputs": [
    {
     "data": {
      "text/plain": [
       "CountVectorizer()"
      ]
     },
     "execution_count": 12,
     "metadata": {
      "tags": []
     },
     "output_type": "execute_result"
    }
   ],
   "source": [
    "rf_pipe[\"vect\"]"
   ]
  },
  {
   "cell_type": "code",
   "execution_count": null,
   "metadata": {
    "colab": {
     "base_uri": "https://localhost:8080/"
    },
    "id": "FVp1apuvwyZA",
    "outputId": "72d649db-5c7f-4a2b-e9eb-5cef4c7a065e"
   },
   "outputs": [
    {
     "data": {
      "text/plain": [
       "{'fit_time': array([0.00577021, 0.00291085, 0.00292683, 0.00280571, 0.00287557]),\n",
       " 'score_time': array([0.00410628, 0.00281453, 0.00240588, 0.00271869, 0.00253367]),\n",
       " 'test_accuracy': array([0.58536585, 0.56097561, 0.56097561, 0.575     , 0.575     ]),\n",
       " 'test_precision': array([0.58536585, 0.56097561, 0.56097561, 0.575     , 0.575     ]),\n",
       " 'test_recall': array([1., 1., 1., 1., 1.])}"
      ]
     },
     "execution_count": 46,
     "metadata": {
      "tags": []
     },
     "output_type": "execute_result"
    }
   ],
   "source": [
    "cross_validate(simple_pipe, X.field_description.values, y, scoring=[\"accuracy\", \"precision\", \"recall\"])"
   ]
  },
  {
   "cell_type": "code",
   "execution_count": null,
   "metadata": {
    "colab": {
     "base_uri": "https://localhost:8080/"
    },
    "id": "_JWPxJtJxC19",
    "outputId": "7258e9c8-be4c-4ac3-c11e-696ca6fe4741"
   },
   "outputs": [
    {
     "data": {
      "text/plain": [
       "{'fit_time': array([0.0069139 , 0.00290799, 0.00274181, 0.0027082 , 0.0028758 ]),\n",
       " 'score_time': array([0.00474143, 0.00327301, 0.00336552, 0.00332022, 0.00362468]),\n",
       " 'test_accuracy': array([0.58536585, 0.68292683, 0.65853659, 0.625     , 0.65      ]),\n",
       " 'test_precision': array([0.81818182, 1.        , 1.        , 1.        , 1.        ]),\n",
       " 'test_recall': array([0.375     , 0.43478261, 0.39130435, 0.34782609, 0.39130435])}"
      ]
     },
     "execution_count": 70,
     "metadata": {
      "tags": []
     },
     "output_type": "execute_result"
    }
   ],
   "source": [
    "cross_validate(keyword_pipe, X.field_description.values, y, scoring=[\"accuracy\", \"precision\", \"recall\"])"
   ]
  },
  {
   "cell_type": "code",
   "execution_count": null,
   "metadata": {
    "colab": {
     "base_uri": "https://localhost:8080/"
    },
    "id": "PU0ZGb5AxHkF",
    "outputId": "c566d9e7-2641-486e-c471-f55f3cde2468"
   },
   "outputs": [
    {
     "data": {
      "text/plain": [
       "{'fit_time': array([0.15636635, 0.14296675, 0.14553308, 0.14433122, 0.16540647]),\n",
       " 'score_time': array([0.01286864, 0.01207185, 0.01599598, 0.01189375, 0.013376  ]),\n",
       " 'test_accuracy': array([0.85365854, 0.90243902, 0.85365854, 0.825     , 0.925     ]),\n",
       " 'test_precision': array([0.90909091, 1.        , 0.9047619 , 0.86363636, 1.        ]),\n",
       " 'test_recall': array([0.83333333, 0.82608696, 0.82608696, 0.82608696, 0.86956522])}"
      ]
     },
     "execution_count": 48,
     "metadata": {
      "tags": []
     },
     "output_type": "execute_result"
    }
   ],
   "source": [
    "cross_validate(rf_pipe, X.field_description.values, y, scoring=[\"accuracy\", \"precision\", \"recall\"])"
   ]
  },
  {
   "cell_type": "code",
   "execution_count": null,
   "metadata": {
    "id": "Gs_ZwCqZMB1s"
   },
   "outputs": [],
   "source": [
    "cv = ShuffleSplit(n_splits=5)"
   ]
  },
  {
   "cell_type": "code",
   "execution_count": null,
   "metadata": {
    "colab": {
     "base_uri": "https://localhost:8080/"
    },
    "id": "fj5TW-O9MhiX",
    "outputId": "94f86707-306a-401a-ab23-6fe128a216dd"
   },
   "outputs": [
    {
     "data": {
      "text/plain": [
       "<generator object BaseShuffleSplit.split at 0x7f52a3969e50>"
      ]
     },
     "execution_count": 72,
     "metadata": {
      "tags": []
     },
     "output_type": "execute_result"
    }
   ],
   "source": [
    "cv.split(X.field_description.values)"
   ]
  },
  {
   "cell_type": "code",
   "execution_count": null,
   "metadata": {
    "id": "gj_nDS_QMmtR"
   },
   "outputs": [],
   "source": [
    "from sklearn.model_selection import KFold"
   ]
  },
  {
   "cell_type": "code",
   "execution_count": null,
   "metadata": {
    "id": "04jZbnoaNKQa"
   },
   "outputs": [],
   "source": [
    "cv = KFold(n_splits=5, shuffle=True)"
   ]
  },
  {
   "cell_type": "code",
   "execution_count": null,
   "metadata": {
    "colab": {
     "base_uri": "https://localhost:8080/"
    },
    "id": "RQvNXOfLNdyr",
    "outputId": "ad98537c-0b18-4f19-994e-189c180a98c2"
   },
   "outputs": [
    {
     "data": {
      "text/plain": [
       "[((162,), (41,)),\n",
       " ((162,), (41,)),\n",
       " ((162,), (41,)),\n",
       " ((163,), (40,)),\n",
       " ((163,), (40,))]"
      ]
     },
     "execution_count": 76,
     "metadata": {
      "tags": []
     },
     "output_type": "execute_result"
    }
   ],
   "source": [
    "[(train.shape, test.shape) for (train, test) in cv.split(X)]"
   ]
  },
  {
   "cell_type": "code",
   "execution_count": null,
   "metadata": {
    "colab": {
     "base_uri": "https://localhost:8080/"
    },
    "id": "gDa22wz-NgK5",
    "outputId": "2dc34353-decb-4579-b9b7-0dbc03bafe45"
   },
   "outputs": [
    {
     "data": {
      "text/plain": [
       "[0.9024390243902439, 0.9024390243902439, 0.8780487804878049, 0.925, 0.8]"
      ]
     },
     "execution_count": 79,
     "metadata": {
      "tags": []
     },
     "output_type": "execute_result"
    }
   ],
   "source": [
    "scores = []\n",
    "for train_idx, test_idx in cv.split(X):\n",
    "  X_train, X_test = X.field_description.values[train_idx], X.field_description.values[test_idx]\n",
    "  y_train, y_test = y[train_idx], y[test_idx]\n",
    "  fit = rf_pipe.fit(X_train, y_train)\n",
    "  scores.append(fit.score(X_test, y_test))\n",
    "\n",
    "scores\n",
    "  "
   ]
  },
  {
   "cell_type": "code",
   "execution_count": null,
   "metadata": {
    "id": "dxQakyCeTSP5"
   },
   "outputs": [],
   "source": [
    "?fit.score"
   ]
  },
  {
   "cell_type": "code",
   "execution_count": null,
   "metadata": {
    "id": "sBVXGLIcU9pq"
   },
   "outputs": [],
   "source": [
    "from sklearn.metrics import accuracy_score, precision_score, recall_score"
   ]
  },
  {
   "cell_type": "code",
   "execution_count": null,
   "metadata": {
    "colab": {
     "base_uri": "https://localhost:8080/",
     "height": 202
    },
    "id": "3MdBwTKnWsbO",
    "outputId": "4b9d476b-64cf-4a1e-ed41-4aaa743ad184"
   },
   "outputs": [
    {
     "data": {
      "text/html": [
       "<div>\n",
       "<style scoped>\n",
       "    .dataframe tbody tr th:only-of-type {\n",
       "        vertical-align: middle;\n",
       "    }\n",
       "\n",
       "    .dataframe tbody tr th {\n",
       "        vertical-align: top;\n",
       "    }\n",
       "\n",
       "    .dataframe thead th {\n",
       "        text-align: right;\n",
       "    }\n",
       "</style>\n",
       "<table border=\"1\" class=\"dataframe\">\n",
       "  <thead>\n",
       "    <tr style=\"text-align: right;\">\n",
       "      <th></th>\n",
       "      <th>accuracy</th>\n",
       "      <th>precision</th>\n",
       "      <th>recall</th>\n",
       "    </tr>\n",
       "  </thead>\n",
       "  <tbody>\n",
       "    <tr>\n",
       "      <th>0</th>\n",
       "      <td>0.926829</td>\n",
       "      <td>1.000000</td>\n",
       "      <td>0.884615</td>\n",
       "    </tr>\n",
       "    <tr>\n",
       "      <th>1</th>\n",
       "      <td>0.926829</td>\n",
       "      <td>1.000000</td>\n",
       "      <td>0.869565</td>\n",
       "    </tr>\n",
       "    <tr>\n",
       "      <th>2</th>\n",
       "      <td>0.853659</td>\n",
       "      <td>0.960000</td>\n",
       "      <td>0.827586</td>\n",
       "    </tr>\n",
       "    <tr>\n",
       "      <th>3</th>\n",
       "      <td>0.800000</td>\n",
       "      <td>0.894737</td>\n",
       "      <td>0.739130</td>\n",
       "    </tr>\n",
       "    <tr>\n",
       "      <th>4</th>\n",
       "      <td>0.875000</td>\n",
       "      <td>0.812500</td>\n",
       "      <td>0.866667</td>\n",
       "    </tr>\n",
       "  </tbody>\n",
       "</table>\n",
       "</div>"
      ],
      "text/plain": [
       "   accuracy  precision    recall\n",
       "0  0.926829   1.000000  0.884615\n",
       "1  0.926829   1.000000  0.869565\n",
       "2  0.853659   0.960000  0.827586\n",
       "3  0.800000   0.894737  0.739130\n",
       "4  0.875000   0.812500  0.866667"
      ]
     },
     "execution_count": 85,
     "metadata": {
      "tags": []
     },
     "output_type": "execute_result"
    }
   ],
   "source": [
    "scores = []\n",
    "for train_idx, test_idx in cv.split(X):\n",
    "  X_train, X_test = X.field_description.values[train_idx], X.field_description.values[test_idx]\n",
    "  y_train, y_test = y[train_idx], y[test_idx]\n",
    "  fit = rf_pipe.fit(X_train, y_train)\n",
    "  pred = fit.predict(X_test)\n",
    "  scores.append({\n",
    "      \"accuracy\": accuracy_score(y_test, pred),\n",
    "      \"precision\": precision_score(y_test, pred),\n",
    "      \"recall\": recall_score(y_test, pred)\n",
    "  })\n",
    "\n",
    "pd.DataFrame(scores)\n",
    "  "
   ]
  },
  {
   "cell_type": "code",
   "execution_count": null,
   "metadata": {
    "id": "51GBBLqgW-42"
   },
   "outputs": [],
   "source": []
  }
 ],
 "metadata": {
  "colab": {
   "collapsed_sections": [],
   "name": "specimen-text-analysis.ipynb",
   "provenance": []
  },
  "kernelspec": {
   "display_name": "Python 3 (ipykernel)",
   "language": "python",
   "name": "python3"
  },
  "language_info": {
   "codemirror_mode": {
    "name": "ipython",
    "version": 3
   },
   "file_extension": ".py",
   "mimetype": "text/x-python",
   "name": "python",
   "nbconvert_exporter": "python",
   "pygments_lexer": "ipython3",
   "version": "3.8.11"
  }
 },
 "nbformat": 4,
 "nbformat_minor": 4
}
