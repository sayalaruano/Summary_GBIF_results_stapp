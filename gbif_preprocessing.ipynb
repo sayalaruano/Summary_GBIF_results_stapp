{
  "cells": [
    {
      "cell_type": "code",
      "execution_count": 1,
      "metadata": {
        "id": "7af84687-9e3f-4bc7-9682-a2053e55978d"
      },
      "outputs": [],
      "source": [
        "# Imports\n",
        "import requests\n",
        "import io\n",
        "import pandas as pd\n",
        "import numpy as np\n",
        "import json\n",
        "import matplotlib.pyplot as plt\n",
        "\n",
        "from tqdm.notebook import tqdm\n",
        "from zipfile import ZipFile"
      ],
      "id": "7af84687-9e3f-4bc7-9682-a2053e55978d"
    },
    {
      "cell_type": "code",
      "execution_count": 2,
      "metadata": {
        "colab": {
          "base_uri": "https://localhost:8080/"
        },
        "id": "ngv_04gloZAZ",
        "outputId": "2acc36bc-e463-454b-c577-3793ca3b0767"
      },
      "outputs": [
        {
          "output_type": "stream",
          "name": "stdout",
          "text": [
            "done!\n"
          ]
        }
      ],
      "source": [
        "# Obtain GBIF DCA data\n",
        "download_key = \"0278150-210914110416597\"\n",
        "download_file_url = f\"https://api.gbif.org/v1/occurrence/download/request/{download_key}\"\n",
        "download_location = \"gbif-occurrences.zip\"\n",
        "chunk_size = 128\n",
        "\n",
        "r = requests.get(download_file_url, stream=True)\n",
        "with open(download_location, \"wb\") as outfile:\n",
        "    for chunk in r.iter_content(chunk_size=chunk_size):\n",
        "        outfile.write(chunk)\n",
        "print(\"done!\")"
      ],
      "id": "ngv_04gloZAZ"
    },
    {
      "cell_type": "code",
      "execution_count": 3,
      "metadata": {
        "colab": {
          "base_uri": "https://localhost:8080/"
        },
        "id": "CbtRM25VpEGl",
        "outputId": "4e3f3a4b-7e03-417f-d8b2-bbe165c11047"
      },
      "outputs": [
        {
          "output_type": "stream",
          "name": "stderr",
          "text": [
            "/usr/local/lib/python3.7/dist-packages/IPython/core/interactiveshell.py:2882: DtypeWarning: Columns (2,9,26,35,39,42,46,56,57,58,61,62,64,65,66,67,68,71,74,75,76,77,79,82,84,85,86,87,88,89,91,92,93,96,97,98,99,101,103,109,110,111,113,114,115,116,117,119,120,121,122,123,126,127,129,130,135,136,142,143,144,145,147,148,149,150,151,152,170,171,172,175,177,178,179,180,181,187,189,190,191,192,193,195,210,211,212,214,215,226,242,246) have mixed types.Specify dtype option on import or set low_memory=False.\n",
            "  exec(code_obj, self.user_global_ns, self.user_ns)\n"
          ]
        },
        {
          "output_type": "execute_result",
          "data": {
            "text/plain": [
              "(43545, 257)"
            ]
          },
          "metadata": {},
          "execution_count": 3
        }
      ],
      "source": [
        "# Extract data from the zip file\n",
        "with ZipFile(download_location, \"r\") as zip:\n",
        "    zip.extractall()\n",
        "\n",
        "# Load data GBIF DCA\n",
        "occurrences = pd.read_table(f\"occurrence.txt\", delimiter=\"\\t\", quoting=3)\n",
        "occurrences.shape"
      ],
      "id": "CbtRM25VpEGl"
    },
    {
      "cell_type": "code",
      "execution_count": null,
      "metadata": {
        "id": "oBy1XcdFpwVs"
      },
      "outputs": [],
      "source": [
        "# Create a df of GBIF DCA columns \n",
        "list_columns = pd.DataFrame(occurrences.columns)"
      ],
      "id": "oBy1XcdFpwVs"
    },
    {
      "cell_type": "code",
      "execution_count": null,
      "metadata": {
        "id": "2rnYwTpjp1Z3"
      },
      "outputs": [],
      "source": [
        "# Export columns df\n",
        "list_columns.to_csv(\"columns_gbif_names.csv\", header=False, index=False)"
      ],
      "id": "2rnYwTpjp1Z3"
    },
    {
      "cell_type": "code",
      "execution_count": 31,
      "metadata": {
        "id": "0K3WfuKApcAl"
      },
      "outputs": [],
      "source": [
        "# List of important columns\n",
        "columns = [\"gbifID\", \"institutionCode\", \"collectionCode\", \"occurrenceID\", \"catalogNumber\", \n",
        "           \"recordNumber\", \"recordedBy\", \"fieldNumber\", \"eventDate\", \"year\", \"month\", \"day\",\n",
        "           \"eventRemarks\", \"countryCode\", \"stateProvince\", \"locality\", \"decimalLongitude\", \n",
        "           \"decimalLatitude\", \"elevation\",  \"habitat\", \"eventRemarks\", \"references\",\"basisOfRecord\", \n",
        "           \"taxonID\", \"scientificNameID\", \"family\", \"genus\", \"species\", \"scientificName\",\n",
        "           \"taxonomicStatus\", \"acceptedScientificName\", \"datasetKey\", \"mediaType\", \n",
        "           \"occurrenceRemarks\", \"dynamicProperties\", \"fieldNotes\", \"reproductiveCondition\"]"
      ],
      "id": "0K3WfuKApcAl"
    },
    {
      "cell_type": "code",
      "execution_count": 32,
      "metadata": {
        "id": "a70803d2-a35e-4422-9908-9bee8c67036b"
      },
      "outputs": [],
      "source": [
        "# Create a dataset with selected columns\n",
        "df = occurrences[columns]"
      ],
      "id": "a70803d2-a35e-4422-9908-9bee8c67036b"
    },
    {
      "cell_type": "code",
      "execution_count": 6,
      "metadata": {
        "colab": {
          "base_uri": "https://localhost:8080/"
        },
        "id": "kHHNnkUEvqUo",
        "outputId": "45818e73-65d7-402c-a38f-0162f8b67087"
      },
      "outputs": [
        {
          "output_type": "stream",
          "name": "stdout",
          "text": [
            "4.56 % of records have field notes\n",
            "19.76 % of records have occurrence remarks\n",
            "5.86 % of records have dynamic properties\n",
            "26.55 % or records have at least one of them\n"
          ]
        }
      ],
      "source": [
        "# General stats about field notes \n",
        "print(f\"{df.fieldNotes.notnull().mean() * 100:.2f} % of records have field notes\")\n",
        "print(f\"{df.occurrenceRemarks.notnull().mean() * 100:.2f} % of records have occurrence remarks\")\n",
        "print(f\"{df.dynamicProperties.notnull().mean() * 100:.2f} % of records have dynamic properties\")\n",
        "print(f\"{df[['fieldNotes', 'occurrenceRemarks', 'dynamicProperties']].apply(lambda row: row.notnull().any(), axis=1).mean()*100:.2f} % or records have at least one of them\")"
      ],
      "id": "kHHNnkUEvqUo"
    },
    {
      "cell_type": "code",
      "execution_count": 7,
      "metadata": {
        "colab": {
          "base_uri": "https://localhost:8080/"
        },
        "id": "SP5gkXq8wTXB",
        "outputId": "ac1b62f0-55e2-4d85-af4c-327eeea1d476"
      },
      "outputs": [
        {
          "output_type": "stream",
          "name": "stdout",
          "text": [
            "2.89 % of records have field notes\n"
          ]
        }
      ],
      "source": [
        "# General stats about labels\n",
        "print(f\"{df.reproductiveCondition.notnull().mean() * 100:.2f} % of records have field notes\")"
      ],
      "id": "SP5gkXq8wTXB"
    },
    {
      "cell_type": "code",
      "execution_count": 33,
      "metadata": {
        "colab": {
          "base_uri": "https://localhost:8080/"
        },
        "id": "881a1f88-0fd3-485a-9b62-579e75e74c53",
        "outputId": "e326d7b4-c3c1-4e5e-8c95-fc28ea97e666"
      },
      "outputs": [
        {
          "output_type": "execute_result",
          "data": {
            "text/plain": [
              "8606"
            ]
          },
          "metadata": {},
          "execution_count": 33
        }
      ],
      "source": [
        "# Dfs of field notes\n",
        "fn_df = df[\"occurrenceRemarks\"]\n",
        "fn_df = fn_df.dropna()\n",
        "fn_df = df.loc[fn_df.index]\n",
        "len(fn_df)"
      ],
      "id": "881a1f88-0fd3-485a-9b62-579e75e74c53"
    },
    {
      "cell_type": "code",
      "execution_count": 34,
      "metadata": {
        "colab": {
          "base_uri": "https://localhost:8080/"
        },
        "id": "afca165c-982c-4e80-a3b7-f06887254820",
        "outputId": "47acfba9-9f00-475f-bef3-d6e4e92864cb"
      },
      "outputs": [
        {
          "output_type": "execute_result",
          "data": {
            "text/plain": [
              "1984"
            ]
          },
          "metadata": {},
          "execution_count": 34
        }
      ],
      "source": [
        "fn_df2 = df[\"fieldNotes\"]\n",
        "fn_df2 = fn_df2.dropna()\n",
        "fn_df2 = df.loc[fn_df2.index]\n",
        "len(fn_df2)"
      ],
      "id": "afca165c-982c-4e80-a3b7-f06887254820"
    },
    {
      "cell_type": "code",
      "execution_count": 35,
      "metadata": {
        "colab": {
          "base_uri": "https://localhost:8080/"
        },
        "id": "4255efe4-b7ca-4264-b2a9-52a5172a17f4",
        "outputId": "1b8b8ddf-f8a8-431f-f8bd-a58285742c88"
      },
      "outputs": [
        {
          "output_type": "execute_result",
          "data": {
            "text/plain": [
              "2552"
            ]
          },
          "metadata": {},
          "execution_count": 35
        }
      ],
      "source": [
        "fn_df3 = df[\"dynamicProperties\"]\n",
        "fn_df3 = fn_df3.dropna()\n",
        "fn_df3 = df.loc[fn_df3.index]\n",
        "len(fn_df3)"
      ],
      "id": "4255efe4-b7ca-4264-b2a9-52a5172a17f4"
    },
    {
      "cell_type": "code",
      "execution_count": 36,
      "metadata": {
        "id": "5916c9ba-4446-4451-948b-033835ef6b3d"
      },
      "outputs": [],
      "source": [
        "# Merge datasets\n",
        "final_df = pd.concat([fn_df, fn_df2])\n",
        "final_df = pd.concat([final_df, fn_df3])\n",
        "# Delete duplicates\n",
        "final_df = final_df.drop_duplicates()"
      ],
      "id": "5916c9ba-4446-4451-948b-033835ef6b3d"
    },
    {
      "cell_type": "code",
      "execution_count": 37,
      "metadata": {
        "colab": {
          "base_uri": "https://localhost:8080/"
        },
        "id": "ea12c636-808b-47b0-a5c2-c2ea43c7efea",
        "outputId": "1defdd3f-ca26-47aa-abf0-9d134f30f9eb"
      },
      "outputs": [
        {
          "output_type": "stream",
          "name": "stdout",
          "text": [
            "<class 'pandas.core.frame.DataFrame'>\n",
            "Int64Index: 11562 entries, 0 to 42720\n",
            "Data columns (total 37 columns):\n",
            " #   Column                  Non-Null Count  Dtype  \n",
            "---  ------                  --------------  -----  \n",
            " 0   gbifID                  11562 non-null  int64  \n",
            " 1   institutionCode         11430 non-null  object \n",
            " 2   collectionCode          11375 non-null  object \n",
            " 3   occurrenceID            11533 non-null  object \n",
            " 4   catalogNumber           11375 non-null  object \n",
            " 5   recordNumber            8936 non-null   object \n",
            " 6   recordedBy              11220 non-null  object \n",
            " 7   fieldNumber             2132 non-null   object \n",
            " 8   eventDate               10634 non-null  object \n",
            " 9   year                    10634 non-null  float64\n",
            " 10  month                   10544 non-null  float64\n",
            " 11  day                     10329 non-null  float64\n",
            " 12  eventRemarks            510 non-null    object \n",
            " 13  countryCode             11321 non-null  object \n",
            " 14  stateProvince           10296 non-null  object \n",
            " 15  locality                10180 non-null  object \n",
            " 16  decimalLongitude        6117 non-null   float64\n",
            " 17  decimalLatitude         6117 non-null   float64\n",
            " 18  elevation               6255 non-null   float64\n",
            " 19  habitat                 1740 non-null   object \n",
            " 20  eventRemarks            510 non-null    object \n",
            " 21  references              501 non-null    object \n",
            " 22  basisOfRecord           11562 non-null  object \n",
            " 23  taxonID                 1919 non-null   object \n",
            " 24  scientificNameID        1553 non-null   object \n",
            " 25  family                  11562 non-null  object \n",
            " 26  genus                   11562 non-null  object \n",
            " 27  species                 11562 non-null  object \n",
            " 28  scientificName          11562 non-null  object \n",
            " 29  taxonomicStatus         11562 non-null  object \n",
            " 30  acceptedScientificName  11562 non-null  object \n",
            " 31  datasetKey              11562 non-null  object \n",
            " 32  mediaType               1610 non-null   object \n",
            " 33  occurrenceRemarks       8606 non-null   object \n",
            " 34  dynamicProperties       2552 non-null   object \n",
            " 35  fieldNotes              1984 non-null   object \n",
            " 36  reproductiveCondition   975 non-null    object \n",
            "dtypes: float64(6), int64(1), object(30)\n",
            "memory usage: 3.4+ MB\n"
          ]
        }
      ],
      "source": [
        "final_df.info()"
      ],
      "id": "ea12c636-808b-47b0-a5c2-c2ea43c7efea"
    },
    {
      "cell_type": "code",
      "execution_count": 38,
      "metadata": {
        "id": "0773d751-42a7-4fbb-978d-80aca5a40bc4"
      },
      "outputs": [],
      "source": [
        "# Merge data of images \n",
        "# Load media df\n",
        "df_media = pd.read_table(f\"multimedia.txt\", delimiter=\"\\t\", quoting=3)\n",
        "\n",
        "# Select useful columns \n",
        "df_media = df_media[[\"gbifID\", \"identifier\"]]\n",
        "\n",
        "# Detele NAs\n",
        "non_na = df_media[\"identifier\"].dropna()\n",
        "df_media = df_media.loc[non_na.index]\n",
        "\n",
        "# Delete duplicates\n",
        "no_dup = df_media[\"gbifID\"].drop_duplicates()\n",
        "df_media = df_media.loc[no_dup.index]\n",
        "\n",
        "# Rename identifier column \n",
        "df_media = df_media.rename(columns={\"identifier\":\"image_url\"})"
      ],
      "id": "0773d751-42a7-4fbb-978d-80aca5a40bc4"
    },
    {
      "cell_type": "code",
      "execution_count": 39,
      "metadata": {
        "colab": {
          "base_uri": "https://localhost:8080/",
          "height": 424
        },
        "id": "e3f60c4c-b37c-49cf-900c-215f705e239a",
        "outputId": "deba5142-0d2d-448e-c1ad-d22489230a36"
      },
      "outputs": [
        {
          "output_type": "execute_result",
          "data": {
            "text/plain": [
              "           gbifID                                          image_url\n",
              "0      3763061704  https://image.bgbm.org/images/internal/HerbarT...\n",
              "2      3763060718  https://herbarium.bgbm.org/data/iiif/B10114828...\n",
              "4      3763060710  https://herbarium.bgbm.org/data/iiif/B10114812...\n",
              "6      3763059719  https://herbarium.bgbm.org/data/iiif/B10114812...\n",
              "8      3763059483  https://herbarium.bgbm.org/data/iiif/B10113783...\n",
              "...           ...                                                ...\n",
              "21817   122907513  https://cdn.plantatlas.org/img/specimens/FTG/1...\n",
              "21818   122907512  https://cdn.plantatlas.org/img/specimens/FTG/1...\n",
              "21819   122907511  https://cdn.plantatlas.org/img/specimens/FTG/1...\n",
              "21820   122907482  https://cdn.plantatlas.org/img/specimens/FTG/1...\n",
              "21821   122905999  https://cdn.plantatlas.org/img/specimens/FTG/6...\n",
              "\n",
              "[13891 rows x 2 columns]"
            ],
            "text/html": [
              "\n",
              "  <div id=\"df-faf2d9c0-2124-46c7-847b-f477d838cb75\">\n",
              "    <div class=\"colab-df-container\">\n",
              "      <div>\n",
              "<style scoped>\n",
              "    .dataframe tbody tr th:only-of-type {\n",
              "        vertical-align: middle;\n",
              "    }\n",
              "\n",
              "    .dataframe tbody tr th {\n",
              "        vertical-align: top;\n",
              "    }\n",
              "\n",
              "    .dataframe thead th {\n",
              "        text-align: right;\n",
              "    }\n",
              "</style>\n",
              "<table border=\"1\" class=\"dataframe\">\n",
              "  <thead>\n",
              "    <tr style=\"text-align: right;\">\n",
              "      <th></th>\n",
              "      <th>gbifID</th>\n",
              "      <th>image_url</th>\n",
              "    </tr>\n",
              "  </thead>\n",
              "  <tbody>\n",
              "    <tr>\n",
              "      <th>0</th>\n",
              "      <td>3763061704</td>\n",
              "      <td>https://image.bgbm.org/images/internal/HerbarT...</td>\n",
              "    </tr>\n",
              "    <tr>\n",
              "      <th>2</th>\n",
              "      <td>3763060718</td>\n",
              "      <td>https://herbarium.bgbm.org/data/iiif/B10114828...</td>\n",
              "    </tr>\n",
              "    <tr>\n",
              "      <th>4</th>\n",
              "      <td>3763060710</td>\n",
              "      <td>https://herbarium.bgbm.org/data/iiif/B10114812...</td>\n",
              "    </tr>\n",
              "    <tr>\n",
              "      <th>6</th>\n",
              "      <td>3763059719</td>\n",
              "      <td>https://herbarium.bgbm.org/data/iiif/B10114812...</td>\n",
              "    </tr>\n",
              "    <tr>\n",
              "      <th>8</th>\n",
              "      <td>3763059483</td>\n",
              "      <td>https://herbarium.bgbm.org/data/iiif/B10113783...</td>\n",
              "    </tr>\n",
              "    <tr>\n",
              "      <th>...</th>\n",
              "      <td>...</td>\n",
              "      <td>...</td>\n",
              "    </tr>\n",
              "    <tr>\n",
              "      <th>21817</th>\n",
              "      <td>122907513</td>\n",
              "      <td>https://cdn.plantatlas.org/img/specimens/FTG/1...</td>\n",
              "    </tr>\n",
              "    <tr>\n",
              "      <th>21818</th>\n",
              "      <td>122907512</td>\n",
              "      <td>https://cdn.plantatlas.org/img/specimens/FTG/1...</td>\n",
              "    </tr>\n",
              "    <tr>\n",
              "      <th>21819</th>\n",
              "      <td>122907511</td>\n",
              "      <td>https://cdn.plantatlas.org/img/specimens/FTG/1...</td>\n",
              "    </tr>\n",
              "    <tr>\n",
              "      <th>21820</th>\n",
              "      <td>122907482</td>\n",
              "      <td>https://cdn.plantatlas.org/img/specimens/FTG/1...</td>\n",
              "    </tr>\n",
              "    <tr>\n",
              "      <th>21821</th>\n",
              "      <td>122905999</td>\n",
              "      <td>https://cdn.plantatlas.org/img/specimens/FTG/6...</td>\n",
              "    </tr>\n",
              "  </tbody>\n",
              "</table>\n",
              "<p>13891 rows × 2 columns</p>\n",
              "</div>\n",
              "      <button class=\"colab-df-convert\" onclick=\"convertToInteractive('df-faf2d9c0-2124-46c7-847b-f477d838cb75')\"\n",
              "              title=\"Convert this dataframe to an interactive table.\"\n",
              "              style=\"display:none;\">\n",
              "        \n",
              "  <svg xmlns=\"http://www.w3.org/2000/svg\" height=\"24px\"viewBox=\"0 0 24 24\"\n",
              "       width=\"24px\">\n",
              "    <path d=\"M0 0h24v24H0V0z\" fill=\"none\"/>\n",
              "    <path d=\"M18.56 5.44l.94 2.06.94-2.06 2.06-.94-2.06-.94-.94-2.06-.94 2.06-2.06.94zm-11 1L8.5 8.5l.94-2.06 2.06-.94-2.06-.94L8.5 2.5l-.94 2.06-2.06.94zm10 10l.94 2.06.94-2.06 2.06-.94-2.06-.94-.94-2.06-.94 2.06-2.06.94z\"/><path d=\"M17.41 7.96l-1.37-1.37c-.4-.4-.92-.59-1.43-.59-.52 0-1.04.2-1.43.59L10.3 9.45l-7.72 7.72c-.78.78-.78 2.05 0 2.83L4 21.41c.39.39.9.59 1.41.59.51 0 1.02-.2 1.41-.59l7.78-7.78 2.81-2.81c.8-.78.8-2.07 0-2.86zM5.41 20L4 18.59l7.72-7.72 1.47 1.35L5.41 20z\"/>\n",
              "  </svg>\n",
              "      </button>\n",
              "      \n",
              "  <style>\n",
              "    .colab-df-container {\n",
              "      display:flex;\n",
              "      flex-wrap:wrap;\n",
              "      gap: 12px;\n",
              "    }\n",
              "\n",
              "    .colab-df-convert {\n",
              "      background-color: #E8F0FE;\n",
              "      border: none;\n",
              "      border-radius: 50%;\n",
              "      cursor: pointer;\n",
              "      display: none;\n",
              "      fill: #1967D2;\n",
              "      height: 32px;\n",
              "      padding: 0 0 0 0;\n",
              "      width: 32px;\n",
              "    }\n",
              "\n",
              "    .colab-df-convert:hover {\n",
              "      background-color: #E2EBFA;\n",
              "      box-shadow: 0px 1px 2px rgba(60, 64, 67, 0.3), 0px 1px 3px 1px rgba(60, 64, 67, 0.15);\n",
              "      fill: #174EA6;\n",
              "    }\n",
              "\n",
              "    [theme=dark] .colab-df-convert {\n",
              "      background-color: #3B4455;\n",
              "      fill: #D2E3FC;\n",
              "    }\n",
              "\n",
              "    [theme=dark] .colab-df-convert:hover {\n",
              "      background-color: #434B5C;\n",
              "      box-shadow: 0px 1px 3px 1px rgba(0, 0, 0, 0.15);\n",
              "      filter: drop-shadow(0px 1px 2px rgba(0, 0, 0, 0.3));\n",
              "      fill: #FFFFFF;\n",
              "    }\n",
              "  </style>\n",
              "\n",
              "      <script>\n",
              "        const buttonEl =\n",
              "          document.querySelector('#df-faf2d9c0-2124-46c7-847b-f477d838cb75 button.colab-df-convert');\n",
              "        buttonEl.style.display =\n",
              "          google.colab.kernel.accessAllowed ? 'block' : 'none';\n",
              "\n",
              "        async function convertToInteractive(key) {\n",
              "          const element = document.querySelector('#df-faf2d9c0-2124-46c7-847b-f477d838cb75');\n",
              "          const dataTable =\n",
              "            await google.colab.kernel.invokeFunction('convertToInteractive',\n",
              "                                                     [key], {});\n",
              "          if (!dataTable) return;\n",
              "\n",
              "          const docLinkHtml = 'Like what you see? Visit the ' +\n",
              "            '<a target=\"_blank\" href=https://colab.research.google.com/notebooks/data_table.ipynb>data table notebook</a>'\n",
              "            + ' to learn more about interactive tables.';\n",
              "          element.innerHTML = '';\n",
              "          dataTable['output_type'] = 'display_data';\n",
              "          await google.colab.output.renderOutput(dataTable, element);\n",
              "          const docLink = document.createElement('div');\n",
              "          docLink.innerHTML = docLinkHtml;\n",
              "          element.appendChild(docLink);\n",
              "        }\n",
              "      </script>\n",
              "    </div>\n",
              "  </div>\n",
              "  "
            ]
          },
          "metadata": {},
          "execution_count": 39
        }
      ],
      "source": [
        "df_media"
      ],
      "id": "e3f60c4c-b37c-49cf-900c-215f705e239a"
    },
    {
      "cell_type": "code",
      "execution_count": 40,
      "metadata": {
        "id": "f78409c4-d20a-4776-8c72-1b3944e74119"
      },
      "outputs": [],
      "source": [
        "# Add information of media to the field notes dataset\n",
        "final_df = final_df.merge(df_media, on=['gbifID'], how=\"left\")"
      ],
      "id": "f78409c4-d20a-4776-8c72-1b3944e74119"
    },
    {
      "cell_type": "code",
      "execution_count": 41,
      "metadata": {
        "colab": {
          "base_uri": "https://localhost:8080/"
        },
        "id": "3e83d8bf-796d-44a1-a29f-c40143ad2048",
        "outputId": "3df44457-a933-4149-bf67-e72a0cf3c141"
      },
      "outputs": [
        {
          "output_type": "stream",
          "name": "stdout",
          "text": [
            "<class 'pandas.core.frame.DataFrame'>\n",
            "Int64Index: 11562 entries, 0 to 11561\n",
            "Data columns (total 38 columns):\n",
            " #   Column                  Non-Null Count  Dtype  \n",
            "---  ------                  --------------  -----  \n",
            " 0   gbifID                  11562 non-null  int64  \n",
            " 1   institutionCode         11430 non-null  object \n",
            " 2   collectionCode          11375 non-null  object \n",
            " 3   occurrenceID            11533 non-null  object \n",
            " 4   catalogNumber           11375 non-null  object \n",
            " 5   recordNumber            8936 non-null   object \n",
            " 6   recordedBy              11220 non-null  object \n",
            " 7   fieldNumber             2132 non-null   object \n",
            " 8   eventDate               10634 non-null  object \n",
            " 9   year                    10634 non-null  float64\n",
            " 10  month                   10544 non-null  float64\n",
            " 11  day                     10329 non-null  float64\n",
            " 12  eventRemarks            510 non-null    object \n",
            " 13  countryCode             11321 non-null  object \n",
            " 14  stateProvince           10296 non-null  object \n",
            " 15  locality                10180 non-null  object \n",
            " 16  decimalLongitude        6117 non-null   float64\n",
            " 17  decimalLatitude         6117 non-null   float64\n",
            " 18  elevation               6255 non-null   float64\n",
            " 19  habitat                 1740 non-null   object \n",
            " 20  eventRemarks            510 non-null    object \n",
            " 21  references              501 non-null    object \n",
            " 22  basisOfRecord           11562 non-null  object \n",
            " 23  taxonID                 1919 non-null   object \n",
            " 24  scientificNameID        1553 non-null   object \n",
            " 25  family                  11562 non-null  object \n",
            " 26  genus                   11562 non-null  object \n",
            " 27  species                 11562 non-null  object \n",
            " 28  scientificName          11562 non-null  object \n",
            " 29  taxonomicStatus         11562 non-null  object \n",
            " 30  acceptedScientificName  11562 non-null  object \n",
            " 31  datasetKey              11562 non-null  object \n",
            " 32  mediaType               1610 non-null   object \n",
            " 33  occurrenceRemarks       8606 non-null   object \n",
            " 34  dynamicProperties       2552 non-null   object \n",
            " 35  fieldNotes              1984 non-null   object \n",
            " 36  reproductiveCondition   975 non-null    object \n",
            " 37  image_url               1619 non-null   object \n",
            "dtypes: float64(6), int64(1), object(31)\n",
            "memory usage: 3.4+ MB\n"
          ]
        }
      ],
      "source": [
        "final_df.info()"
      ],
      "id": "3e83d8bf-796d-44a1-a29f-c40143ad2048"
    },
    {
      "cell_type": "markdown",
      "source": [
        "## Group synonyms to the accepted names"
      ],
      "metadata": {
        "id": "aGfbqr8HEEt3"
      },
      "id": "aGfbqr8HEEt3"
    },
    {
      "cell_type": "code",
      "source": [
        "# Create lists of synonyms\n",
        "sp1 = [\"Acalypha diversifolia Jacq.\", \"Acalypha angustifolia Sw.\",\n",
        "       \"Brosimum heteroclitum Donn.Sm.\"]\n",
        "sp2 = [\"Aequatorium jamesonii (S.F.Blake) C.Jeffrey\", \"Aequatorium polygonoides (Cuatrec.) B.Nord.\",\n",
        "       \"Aequatorium verrucosum (Wedd.) S.Díaz-Piedrahíta & Cuatrec.\"]\n",
        "sp3 = [\"Alchornea glandulosa Poepp.\", \"Alchornea glandulosa subsp. glandulosa\",\n",
        "       \"Alchornea glandulosa subsp. iricurana (Casar.) Secco\"]\n",
        "sp4 = [\"Allophylus floribundus (Poepp.) Radlk.\", \"Allophylus leiophloeus Radlk.\"]\n",
        "sp5 = [\"Annona mucosa Jacq.\", \"Annona parviflora (A.St.-Hil.) H.Rainer\"]\n",
        "sp6 = [\"Axinaea macrophylla (Naudin) Triana\", \"Axinaea affinis (Naudin) Cogn.\",\n",
        "       \"Axinaea floribunda (Naudin) Triana\"]\n",
        "sp7 = [\"Bactris gasipaes Kunth\", \"Bactris gasipaes var. chichagui (H.Karst.) A.J.Hend.\",\n",
        "       \"Bactris gasipaes var. gasipaes\"]\n",
        "sp8 = [\"Beilschmiedia pendula (Sw.) Hemsl.\", \"Beilschmiedia brenesii C.K.Allen\", \n",
        "       \"Beilschmiedia costaricensis (Mez & Pittier) C.K.Allen\"]\n",
        "sp9 = [\"Brosimum utile (Kunth) Oken\", \"Brosimum utile subsp. allenii (Woodson) C.C.Berg\",\n",
        "       \"Brosimum utile subsp. darienense C.C.Berg\", \"Brosimum utile subsp. magdalenense C.C.Berg\",\n",
        "       \"Brosimum utile subsp. magdalense C.C.Berg, 1970\", \"Brosimum utile subsp. occidentale C.C.Berg\",\n",
        "       \"Brosimum utile subsp. ovatifolium (Ducke) C.C.Berg\", \"Brosimum utile subsp. utile\"]\n",
        "sp10 = [\"Alsophila incana (H.Karst.) D.S.Conant\", \"Cyathea poeppigii (Hook.) Domin\"]"
      ],
      "metadata": {
        "id": "Qb8YWgjBTMzo"
      },
      "id": "Qb8YWgjBTMzo",
      "execution_count": 42,
      "outputs": []
    },
    {
      "cell_type": "code",
      "source": [
        "# Create a new column with no-synonyms names\n",
        "new_column = []\n",
        "\n",
        "for i in final_df.index:\n",
        "    if final_df['acceptedScientificName'][i] in sp1:\n",
        "        new_column.append(sp1[0])\n",
        "    elif final_df['acceptedScientificName'][i] in sp2:\n",
        "        new_column.append(sp2[0])\n",
        "    elif final_df['acceptedScientificName'][i] in sp3:\n",
        "        new_column.append(sp3[0])\n",
        "    elif final_df['acceptedScientificName'][i] in sp4:\n",
        "        new_column.append(sp4[0])\n",
        "    elif final_df['acceptedScientificName'][i] in sp5:\n",
        "        new_column.append(sp5[0])\n",
        "    elif final_df['acceptedScientificName'][i] in sp6:\n",
        "        new_column.append(sp6[0])\n",
        "    elif final_df['acceptedScientificName'][i] in sp7:\n",
        "        new_column.append(sp7[0])\n",
        "    elif final_df['acceptedScientificName'][i] in sp8:\n",
        "        new_column.append(sp8[0])\n",
        "    elif final_df['acceptedScientificName'][i] in sp9:\n",
        "        new_column.append(sp9[0])\n",
        "    elif final_df['acceptedScientificName'][i] in sp10:\n",
        "        new_column.append(sp10[0])\n",
        "    else : #if both conditions not verified\n",
        "        new_column.append(final_df['acceptedScientificName'][i])\n",
        "\n",
        "final_df['acceptedScientificName_corr'] = new_column"
      ],
      "metadata": {
        "id": "LqACBQWwlJX4"
      },
      "id": "LqACBQWwlJX4",
      "execution_count": 43,
      "outputs": []
    },
    {
      "cell_type": "code",
      "source": [
        "len(final_df[\"acceptedScientificName_corr\"].unique())"
      ],
      "metadata": {
        "id": "fNhhcHpJ1d2w",
        "colab": {
          "base_uri": "https://localhost:8080/"
        },
        "outputId": "89d68b13-7a3b-4a94-b0cc-e822f8b5799f"
      },
      "id": "fNhhcHpJ1d2w",
      "execution_count": 44,
      "outputs": [
        {
          "output_type": "execute_result",
          "data": {
            "text/plain": [
              "47"
            ]
          },
          "metadata": {},
          "execution_count": 44
        }
      ]
    },
    {
      "cell_type": "markdown",
      "source": [
        "## Countries names"
      ],
      "metadata": {
        "id": "q3YvhZWXD74t"
      },
      "id": "q3YvhZWXD74t"
    },
    {
      "cell_type": "code",
      "source": [
        "final_df['Country_name'] = final_df.countryCode.map({\"AQ\": \"Antarctica\", \"AR\":\"Argentina\",\n",
        "                                                     \"AU\":\"Australia\", \"BO\": \"Bolivia\", \n",
        "                                                     \"BR\":\"Brazil\",\"BZ\": \"Belize\", \n",
        "                                                     \"CN\":\"China\",\"CO\": \"Colombia\", \n",
        "                                                     \"CR\":\"Costa Rica\",\"CU\": \"Cuba\", \n",
        "                                                     \"DO\":\"Dominican Republic\",\"EC\": \"Ecuador\", \n",
        "                                                     \"GF\":\"French Guiana\",\"GN\": \"Guinea\", \n",
        "                                                     \"GP\":\"Guadeloupe\",\"GT\": \"Guatemala\", \n",
        "                                                     \"GY\":\"Guyana\",\"HN\": \"Honduras\", \n",
        "                                                     \"HT\":\"Haiti\",\"JM\": \"Jamaica\", \n",
        "                                                     \"KN\":\"St. Kitts and Nevis\",\"MQ\": \"Martinique\", \n",
        "                                                     \"MX\":\"Mexico\",\"NI\": \"Nicaragua\", \n",
        "                                                     \"PA\":\"Panama\",\"PE\": \"Peru\", \n",
        "                                                     \"PR\":\"Puerto Rico\",\"PY\": \"Paraguay\", \n",
        "                                                     \"SR\":\"Suriname\",\"SV\": \"El Salvador\", \n",
        "                                                     \"TT\":\"Trinidad & Tobago\",\"US\": \"United States of America\", \n",
        "                                                     \"UY\":\"Uruguay\",\"VC\": \"St. Vincent & the Grenadines\", \n",
        "                                                     \"VE\":\"Venezuela\",\"ZZ\": \"Unknown\",}).fillna(\"Unknown\")"
      ],
      "metadata": {
        "id": "xrCKriaV3pAL"
      },
      "id": "xrCKriaV3pAL",
      "execution_count": 48,
      "outputs": []
    },
    {
      "cell_type": "code",
      "source": [
        "countries = pd.DataFrame(final_df[\"Country_name\"].unique(), \n",
        "                    columns = [\"Country_name\"])\n",
        "\n",
        "countries = countries.sort_values(by=[\"Country_name\"], ignore_index=True)\n",
        "\n",
        "df_counts_c = pd.DataFrame(columns=[\"Country_name\", \"count\"])\n",
        "\n",
        "for i in countries[\"Country_name\"]:\n",
        "  count_temp = len(final_df[final_df[\"Country_name\"] == i])\n",
        "  df_counts_c.loc[len(df_counts_c)] = [i, count_temp]"
      ],
      "metadata": {
        "id": "vmtRGSJx8g95"
      },
      "id": "vmtRGSJx8g95",
      "execution_count": 49,
      "outputs": []
    },
    {
      "cell_type": "code",
      "source": [
        "df_counts_c[\"count\"].sum()"
      ],
      "metadata": {
        "colab": {
          "base_uri": "https://localhost:8080/"
        },
        "id": "RpCCMzJT8r7B",
        "outputId": "38d60df4-3f99-43f5-9223-ce0265c3bc07"
      },
      "id": "RpCCMzJT8r7B",
      "execution_count": 50,
      "outputs": [
        {
          "output_type": "execute_result",
          "data": {
            "text/plain": [
              "11562"
            ]
          },
          "metadata": {},
          "execution_count": 50
        }
      ]
    },
    {
      "cell_type": "code",
      "source": [
        "len(final_df['Country_name'].unique())"
      ],
      "metadata": {
        "colab": {
          "base_uri": "https://localhost:8080/"
        },
        "id": "yxZSDxuY7QHB",
        "outputId": "f1c9cfd4-06ff-4924-c881-a845caf06d15"
      },
      "id": "yxZSDxuY7QHB",
      "execution_count": 51,
      "outputs": [
        {
          "output_type": "execute_result",
          "data": {
            "text/plain": [
              "36"
            ]
          },
          "metadata": {},
          "execution_count": 51
        }
      ]
    },
    {
      "cell_type": "code",
      "source": [
        "# Delete records from countries outside America\n",
        "final_df = final_df.drop(final_df[(final_df.Country_name == \"Antarctica\") | \n",
        "                                  (final_df.Country_name == \"Australia\") | \n",
        "                                  (final_df.Country_name == \"China\") |\n",
        "                                  (final_df.Country_name == \"Guinea\")].index)"
      ],
      "metadata": {
        "id": "d3XsGSBh8roh"
      },
      "id": "d3XsGSBh8roh",
      "execution_count": 52,
      "outputs": []
    },
    {
      "cell_type": "code",
      "source": [
        "len(final_df['Country_name'].unique())"
      ],
      "metadata": {
        "colab": {
          "base_uri": "https://localhost:8080/"
        },
        "id": "qQAxlqC4_XXd",
        "outputId": "c3e19460-59ce-4bc0-923d-d57635475e79"
      },
      "id": "qQAxlqC4_XXd",
      "execution_count": 53,
      "outputs": [
        {
          "output_type": "execute_result",
          "data": {
            "text/plain": [
              "32"
            ]
          },
          "metadata": {},
          "execution_count": 53
        }
      ]
    },
    {
      "cell_type": "markdown",
      "source": [
        "## Add filter columns"
      ],
      "metadata": {
        "id": "V6zChovrD2KD"
      },
      "id": "V6zChovrD2KD"
    },
    {
      "cell_type": "code",
      "source": [
        "# Add a column to verify if records have dates with at least month\n",
        "final_df[\"Date_with_month\"] = final_df['month'].isna()\n",
        "final_df[\"Date_with_month\"] = final_df[\"Date_with_month\"].replace({True: 'No', False: 'Yes'})"
      ],
      "metadata": {
        "id": "nzj0awQDD5f3"
      },
      "id": "nzj0awQDD5f3",
      "execution_count": 62,
      "outputs": []
    },
    {
      "cell_type": "code",
      "source": [
        "# Add a column to verify if records have latitude\n",
        "final_df[\"Latitute_verif\"] = final_df['decimalLatitude'].isna()\n",
        "final_df[\"Latitute_verif\"] = final_df[\"Latitute_verif\"].replace({True: 'No', False: 'Yes'})"
      ],
      "metadata": {
        "id": "qQAskn6oGhj4"
      },
      "id": "qQAskn6oGhj4",
      "execution_count": 68,
      "outputs": []
    },
    {
      "cell_type": "code",
      "source": [
        "# Add a column to verify if records have longitude\n",
        "final_df[\"Longitude_verif\"] = final_df['decimalLongitude'].isna()\n",
        "final_df[\"Longitude_verif\"] = final_df[\"Longitude_verif\"].replace({True: 'No', False: 'Yes'})"
      ],
      "metadata": {
        "id": "oqmxf2sOJvCy"
      },
      "id": "oqmxf2sOJvCy",
      "execution_count": 72,
      "outputs": []
    },
    {
      "cell_type": "markdown",
      "source": [
        "## Create a column for binned latitude"
      ],
      "metadata": {
        "id": "F4VC8S8oLWqK"
      },
      "id": "F4VC8S8oLWqK"
    },
    {
      "cell_type": "code",
      "source": [
        "test = final_df[final_df['decimalLatitude'].isna() == False][\"decimalLatitude\"]"
      ],
      "metadata": {
        "id": "DV-MvOoFKBok"
      },
      "id": "DV-MvOoFKBok",
      "execution_count": 78,
      "outputs": []
    },
    {
      "cell_type": "code",
      "source": [
        "max(test)"
      ],
      "metadata": {
        "colab": {
          "base_uri": "https://localhost:8080/"
        },
        "id": "li4wRs_wM9HZ",
        "outputId": "1bdae036-3fb7-4156-c38d-454779f83f05"
      },
      "id": "li4wRs_wM9HZ",
      "execution_count": 94,
      "outputs": [
        {
          "output_type": "execute_result",
          "data": {
            "text/plain": [
              "74.833333"
            ]
          },
          "metadata": {},
          "execution_count": 94
        }
      ]
    },
    {
      "cell_type": "code",
      "source": [
        "# Create a list with the bins\n",
        "start = -70\n",
        "n = 80\n",
        "interval = 10\n",
        "bins = np.arange(start, n, interval)\n",
        "\n",
        "# Create a column with the binned latitude\n",
        "final_df['Binned_latitude'] = pd.cut(final_df['decimalLatitude'], bins)"
      ],
      "metadata": {
        "id": "bVfaeB9aPz-A"
      },
      "id": "bVfaeB9aPz-A",
      "execution_count": 102,
      "outputs": []
    },
    {
      "cell_type": "code",
      "source": [
        "# Create an histogram with the binned latitude\n",
        "n_bins = 15\n",
        "# Creating histogram\n",
        "fig, ax = plt.subplots(figsize =(10, 7))\n",
        "ax.hist(test,  bins = n_bins)\n",
        " \n",
        "# Show plot\n",
        "plt.show()"
      ],
      "metadata": {
        "colab": {
          "base_uri": "https://localhost:8080/",
          "height": 428
        },
        "id": "0MycZ7eUMRtv",
        "outputId": "f9ce5de0-d8d6-4fe5-9cb1-bef59932d32c"
      },
      "id": "0MycZ7eUMRtv",
      "execution_count": 108,
      "outputs": [
        {
          "output_type": "display_data",
          "data": {
            "text/plain": [
              "<Figure size 720x504 with 1 Axes>"
            ],
            "image/png": "[encoded data removed]"
          },
          "metadata": {
            "needs_background": "light"
          }
        }
      ]
    },
    {
      "cell_type": "code",
      "source": [
        "# Export final dataset\n",
        "final_df.to_csv(\"50_species_GBIFrecords_fieldnotes.csv\", index=False)"
      ],
      "metadata": {
        "id": "VZXpFsk6ESMI"
      },
      "id": "VZXpFsk6ESMI",
      "execution_count": 109,
      "outputs": []
    },
    {
      "cell_type": "markdown",
      "source": [
        "## Other tests"
      ],
      "metadata": {
        "id": "reRH6s4s1gEW"
      },
      "id": "reRH6s4s1gEW"
    },
    {
      "cell_type": "code",
      "execution_count": null,
      "metadata": {
        "id": "C49yXxs_z4y1"
      },
      "outputs": [],
      "source": [
        "test = pd.DataFrame(final_df[\"countryCode\"].unique(), columns = [\"countryCode\"])"
      ],
      "id": "C49yXxs_z4y1"
    },
    {
      "cell_type": "code",
      "source": [
        "test = test.sort_values(by=[\"countryCode\"], ignore_index=True)"
      ],
      "metadata": {
        "id": "Y2UT8Vr47fBr"
      },
      "execution_count": null,
      "outputs": [],
      "id": "Y2UT8Vr47fBr"
    },
    {
      "cell_type": "code",
      "source": [
        "test"
      ],
      "metadata": {
        "colab": {
          "base_uri": "https://localhost:8080/",
          "height": 1000
        },
        "id": "GTX4GdO__tNs",
        "outputId": "075f0190-91e4-4165-aef1-e48acddfbc41"
      },
      "execution_count": null,
      "outputs": [
        {
          "output_type": "execute_result",
          "data": {
            "text/plain": [
              "   countryCode\n",
              "0           AQ\n",
              "1           AR\n",
              "2           AU\n",
              "3           BO\n",
              "4           BR\n",
              "5           BZ\n",
              "6           CN\n",
              "7           CO\n",
              "8           CR\n",
              "9           CU\n",
              "10          DO\n",
              "11          EC\n",
              "12          GF\n",
              "13          GN\n",
              "14          GP\n",
              "15          GT\n",
              "16          GY\n",
              "17          HN\n",
              "18          HT\n",
              "19          JM\n",
              "20          KN\n",
              "21          MQ\n",
              "22          MX\n",
              "23          NI\n",
              "24          PA\n",
              "25          PE\n",
              "26          PR\n",
              "27          PY\n",
              "28          SR\n",
              "29          SV\n",
              "30          TT\n",
              "31          US\n",
              "32          UY\n",
              "33          VC\n",
              "34          VE\n",
              "35          ZZ\n",
              "36         NaN"
            ],
            "text/html": [
              "\n",
              "  <div id=\"df-6d2baed0-d9e9-40dc-aaef-fba9ba396863\">\n",
              "    <div class=\"colab-df-container\">\n",
              "      <div>\n",
              "<style scoped>\n",
              "    .dataframe tbody tr th:only-of-type {\n",
              "        vertical-align: middle;\n",
              "    }\n",
              "\n",
              "    .dataframe tbody tr th {\n",
              "        vertical-align: top;\n",
              "    }\n",
              "\n",
              "    .dataframe thead th {\n",
              "        text-align: right;\n",
              "    }\n",
              "</style>\n",
              "<table border=\"1\" class=\"dataframe\">\n",
              "  <thead>\n",
              "    <tr style=\"text-align: right;\">\n",
              "      <th></th>\n",
              "      <th>countryCode</th>\n",
              "    </tr>\n",
              "  </thead>\n",
              "  <tbody>\n",
              "    <tr>\n",
              "      <th>0</th>\n",
              "      <td>AQ</td>\n",
              "    </tr>\n",
              "    <tr>\n",
              "      <th>1</th>\n",
              "      <td>AR</td>\n",
              "    </tr>\n",
              "    <tr>\n",
              "      <th>2</th>\n",
              "      <td>AU</td>\n",
              "    </tr>\n",
              "    <tr>\n",
              "      <th>3</th>\n",
              "      <td>BO</td>\n",
              "    </tr>\n",
              "    <tr>\n",
              "      <th>4</th>\n",
              "      <td>BR</td>\n",
              "    </tr>\n",
              "    <tr>\n",
              "      <th>5</th>\n",
              "      <td>BZ</td>\n",
              "    </tr>\n",
              "    <tr>\n",
              "      <th>6</th>\n",
              "      <td>CN</td>\n",
              "    </tr>\n",
              "    <tr>\n",
              "      <th>7</th>\n",
              "      <td>CO</td>\n",
              "    </tr>\n",
              "    <tr>\n",
              "      <th>8</th>\n",
              "      <td>CR</td>\n",
              "    </tr>\n",
              "    <tr>\n",
              "      <th>9</th>\n",
              "      <td>CU</td>\n",
              "    </tr>\n",
              "    <tr>\n",
              "      <th>10</th>\n",
              "      <td>DO</td>\n",
              "    </tr>\n",
              "    <tr>\n",
              "      <th>11</th>\n",
              "      <td>EC</td>\n",
              "    </tr>\n",
              "    <tr>\n",
              "      <th>12</th>\n",
              "      <td>GF</td>\n",
              "    </tr>\n",
              "    <tr>\n",
              "      <th>13</th>\n",
              "      <td>GN</td>\n",
              "    </tr>\n",
              "    <tr>\n",
              "      <th>14</th>\n",
              "      <td>GP</td>\n",
              "    </tr>\n",
              "    <tr>\n",
              "      <th>15</th>\n",
              "      <td>GT</td>\n",
              "    </tr>\n",
              "    <tr>\n",
              "      <th>16</th>\n",
              "      <td>GY</td>\n",
              "    </tr>\n",
              "    <tr>\n",
              "      <th>17</th>\n",
              "      <td>HN</td>\n",
              "    </tr>\n",
              "    <tr>\n",
              "      <th>18</th>\n",
              "      <td>HT</td>\n",
              "    </tr>\n",
              "    <tr>\n",
              "      <th>19</th>\n",
              "      <td>JM</td>\n",
              "    </tr>\n",
              "    <tr>\n",
              "      <th>20</th>\n",
              "      <td>KN</td>\n",
              "    </tr>\n",
              "    <tr>\n",
              "      <th>21</th>\n",
              "      <td>MQ</td>\n",
              "    </tr>\n",
              "    <tr>\n",
              "      <th>22</th>\n",
              "      <td>MX</td>\n",
              "    </tr>\n",
              "    <tr>\n",
              "      <th>23</th>\n",
              "      <td>NI</td>\n",
              "    </tr>\n",
              "    <tr>\n",
              "      <th>24</th>\n",
              "      <td>PA</td>\n",
              "    </tr>\n",
              "    <tr>\n",
              "      <th>25</th>\n",
              "      <td>PE</td>\n",
              "    </tr>\n",
              "    <tr>\n",
              "      <th>26</th>\n",
              "      <td>PR</td>\n",
              "    </tr>\n",
              "    <tr>\n",
              "      <th>27</th>\n",
              "      <td>PY</td>\n",
              "    </tr>\n",
              "    <tr>\n",
              "      <th>28</th>\n",
              "      <td>SR</td>\n",
              "    </tr>\n",
              "    <tr>\n",
              "      <th>29</th>\n",
              "      <td>SV</td>\n",
              "    </tr>\n",
              "    <tr>\n",
              "      <th>30</th>\n",
              "      <td>TT</td>\n",
              "    </tr>\n",
              "    <tr>\n",
              "      <th>31</th>\n",
              "      <td>US</td>\n",
              "    </tr>\n",
              "    <tr>\n",
              "      <th>32</th>\n",
              "      <td>UY</td>\n",
              "    </tr>\n",
              "    <tr>\n",
              "      <th>33</th>\n",
              "      <td>VC</td>\n",
              "    </tr>\n",
              "    <tr>\n",
              "      <th>34</th>\n",
              "      <td>VE</td>\n",
              "    </tr>\n",
              "    <tr>\n",
              "      <th>35</th>\n",
              "      <td>ZZ</td>\n",
              "    </tr>\n",
              "    <tr>\n",
              "      <th>36</th>\n",
              "      <td>NaN</td>\n",
              "    </tr>\n",
              "  </tbody>\n",
              "</table>\n",
              "</div>\n",
              "      <button class=\"colab-df-convert\" onclick=\"convertToInteractive('df-6d2baed0-d9e9-40dc-aaef-fba9ba396863')\"\n",
              "              title=\"Convert this dataframe to an interactive table.\"\n",
              "              style=\"display:none;\">\n",
              "        \n",
              "  <svg xmlns=\"http://www.w3.org/2000/svg\" height=\"24px\"viewBox=\"0 0 24 24\"\n",
              "       width=\"24px\">\n",
              "    <path d=\"M0 0h24v24H0V0z\" fill=\"none\"/>\n",
              "    <path d=\"M18.56 5.44l.94 2.06.94-2.06 2.06-.94-2.06-.94-.94-2.06-.94 2.06-2.06.94zm-11 1L8.5 8.5l.94-2.06 2.06-.94-2.06-.94L8.5 2.5l-.94 2.06-2.06.94zm10 10l.94 2.06.94-2.06 2.06-.94-2.06-.94-.94-2.06-.94 2.06-2.06.94z\"/><path d=\"M17.41 7.96l-1.37-1.37c-.4-.4-.92-.59-1.43-.59-.52 0-1.04.2-1.43.59L10.3 9.45l-7.72 7.72c-.78.78-.78 2.05 0 2.83L4 21.41c.39.39.9.59 1.41.59.51 0 1.02-.2 1.41-.59l7.78-7.78 2.81-2.81c.8-.78.8-2.07 0-2.86zM5.41 20L4 18.59l7.72-7.72 1.47 1.35L5.41 20z\"/>\n",
              "  </svg>\n",
              "      </button>\n",
              "      \n",
              "  <style>\n",
              "    .colab-df-container {\n",
              "      display:flex;\n",
              "      flex-wrap:wrap;\n",
              "      gap: 12px;\n",
              "    }\n",
              "\n",
              "    .colab-df-convert {\n",
              "      background-color: #E8F0FE;\n",
              "      border: none;\n",
              "      border-radius: 50%;\n",
              "      cursor: pointer;\n",
              "      display: none;\n",
              "      fill: #1967D2;\n",
              "      height: 32px;\n",
              "      padding: 0 0 0 0;\n",
              "      width: 32px;\n",
              "    }\n",
              "\n",
              "    .colab-df-convert:hover {\n",
              "      background-color: #E2EBFA;\n",
              "      box-shadow: 0px 1px 2px rgba(60, 64, 67, 0.3), 0px 1px 3px 1px rgba(60, 64, 67, 0.15);\n",
              "      fill: #174EA6;\n",
              "    }\n",
              "\n",
              "    [theme=dark] .colab-df-convert {\n",
              "      background-color: #3B4455;\n",
              "      fill: #D2E3FC;\n",
              "    }\n",
              "\n",
              "    [theme=dark] .colab-df-convert:hover {\n",
              "      background-color: #434B5C;\n",
              "      box-shadow: 0px 1px 3px 1px rgba(0, 0, 0, 0.15);\n",
              "      filter: drop-shadow(0px 1px 2px rgba(0, 0, 0, 0.3));\n",
              "      fill: #FFFFFF;\n",
              "    }\n",
              "  </style>\n",
              "\n",
              "      <script>\n",
              "        const buttonEl =\n",
              "          document.querySelector('#df-6d2baed0-d9e9-40dc-aaef-fba9ba396863 button.colab-df-convert');\n",
              "        buttonEl.style.display =\n",
              "          google.colab.kernel.accessAllowed ? 'block' : 'none';\n",
              "\n",
              "        async function convertToInteractive(key) {\n",
              "          const element = document.querySelector('#df-6d2baed0-d9e9-40dc-aaef-fba9ba396863');\n",
              "          const dataTable =\n",
              "            await google.colab.kernel.invokeFunction('convertToInteractive',\n",
              "                                                     [key], {});\n",
              "          if (!dataTable) return;\n",
              "\n",
              "          const docLinkHtml = 'Like what you see? Visit the ' +\n",
              "            '<a target=\"_blank\" href=https://colab.research.google.com/notebooks/data_table.ipynb>data table notebook</a>'\n",
              "            + ' to learn more about interactive tables.';\n",
              "          element.innerHTML = '';\n",
              "          dataTable['output_type'] = 'display_data';\n",
              "          await google.colab.output.renderOutput(dataTable, element);\n",
              "          const docLink = document.createElement('div');\n",
              "          docLink.innerHTML = docLinkHtml;\n",
              "          element.appendChild(docLink);\n",
              "        }\n",
              "      </script>\n",
              "    </div>\n",
              "  </div>\n",
              "  "
            ]
          },
          "metadata": {},
          "execution_count": 61
        }
      ],
      "id": "GTX4GdO__tNs"
    },
    {
      "cell_type": "code",
      "source": [
        "test.to_csv(\"accepted_names_list.csv\", index=False)"
      ],
      "metadata": {
        "id": "S9VJ9hVZzdcw"
      },
      "execution_count": null,
      "outputs": [],
      "id": "S9VJ9hVZzdcw"
    },
    {
      "cell_type": "code",
      "source": [
        "len(final_df[final_df[\"acceptedScientificName\"] == \"Acalypha diversifolia Jacq.\"])"
      ],
      "metadata": {
        "colab": {
          "base_uri": "https://localhost:8080/"
        },
        "id": "zduHRJMs7HUJ",
        "outputId": "98941f9c-26f3-49fe-9d3d-cd2e5233500e"
      },
      "id": "zduHRJMs7HUJ",
      "execution_count": null,
      "outputs": [
        {
          "output_type": "execute_result",
          "data": {
            "text/plain": [
              "1321"
            ]
          },
          "metadata": {},
          "execution_count": 39
        }
      ]
    },
    {
      "cell_type": "code",
      "source": [
        "temp = pd.DataFrame(columns=[\"countryCode\", \"count\"])"
      ],
      "metadata": {
        "id": "_LoYuyuGdWls"
      },
      "id": "_LoYuyuGdWls",
      "execution_count": null,
      "outputs": []
    },
    {
      "cell_type": "code",
      "source": [
        "for i in test[\"countryCode\"]:\n",
        "  count_temp = len(final_df[final_df[\"countryCode\"] == i])\n",
        "  temp.loc[len(temp)] = [i, count_temp]"
      ],
      "metadata": {
        "id": "2n9uWXeI-2yy"
      },
      "id": "2n9uWXeI-2yy",
      "execution_count": null,
      "outputs": []
    },
    {
      "cell_type": "code",
      "source": [
        "temp"
      ],
      "metadata": {
        "colab": {
          "base_uri": "https://localhost:8080/",
          "height": 424
        },
        "id": "XDMKmrUJfdae",
        "outputId": "8ed0b9d6-6323-47ba-9c50-ee94bbe1c59d"
      },
      "id": "XDMKmrUJfdae",
      "execution_count": null,
      "outputs": [
        {
          "output_type": "execute_result",
          "data": {
            "text/plain": [
              "                       acceptedScientificName count\n",
              "0                   Acalypha angustifolia Sw.     2\n",
              "1                 Acalypha diversifolia Jacq.  1321\n",
              "2               Aegiphila aculeifera Moldenke     4\n",
              "3                     Aegiphila alba Moldenke    32\n",
              "4     Aegiphila bogotensis (Spreng.) Moldenke    78\n",
              "..                                        ...   ...\n",
              "64          Browneopsis macrofoliolata Klitg.     3\n",
              "65                 Brunellia acostae Cuatrec.    24\n",
              "66  Cyathea conjugata (Spruce ex Hook.) Domin    88\n",
              "67            Cyathea poeppigii (Hook.) Domin     2\n",
              "68   Geissanthus ambigua (C.Mart.) G.Agostini   189\n",
              "\n",
              "[69 rows x 2 columns]"
            ],
            "text/html": [
              "\n",
              "  <div id=\"df-07cca151-cc3b-4739-a2d9-e8952540a271\">\n",
              "    <div class=\"colab-df-container\">\n",
              "      <div>\n",
              "<style scoped>\n",
              "    .dataframe tbody tr th:only-of-type {\n",
              "        vertical-align: middle;\n",
              "    }\n",
              "\n",
              "    .dataframe tbody tr th {\n",
              "        vertical-align: top;\n",
              "    }\n",
              "\n",
              "    .dataframe thead th {\n",
              "        text-align: right;\n",
              "    }\n",
              "</style>\n",
              "<table border=\"1\" class=\"dataframe\">\n",
              "  <thead>\n",
              "    <tr style=\"text-align: right;\">\n",
              "      <th></th>\n",
              "      <th>acceptedScientificName</th>\n",
              "      <th>count</th>\n",
              "    </tr>\n",
              "  </thead>\n",
              "  <tbody>\n",
              "    <tr>\n",
              "      <th>0</th>\n",
              "      <td>Acalypha angustifolia Sw.</td>\n",
              "      <td>2</td>\n",
              "    </tr>\n",
              "    <tr>\n",
              "      <th>1</th>\n",
              "      <td>Acalypha diversifolia Jacq.</td>\n",
              "      <td>1321</td>\n",
              "    </tr>\n",
              "    <tr>\n",
              "      <th>2</th>\n",
              "      <td>Aegiphila aculeifera Moldenke</td>\n",
              "      <td>4</td>\n",
              "    </tr>\n",
              "    <tr>\n",
              "      <th>3</th>\n",
              "      <td>Aegiphila alba Moldenke</td>\n",
              "      <td>32</td>\n",
              "    </tr>\n",
              "    <tr>\n",
              "      <th>4</th>\n",
              "      <td>Aegiphila bogotensis (Spreng.) Moldenke</td>\n",
              "      <td>78</td>\n",
              "    </tr>\n",
              "    <tr>\n",
              "      <th>...</th>\n",
              "      <td>...</td>\n",
              "      <td>...</td>\n",
              "    </tr>\n",
              "    <tr>\n",
              "      <th>64</th>\n",
              "      <td>Browneopsis macrofoliolata Klitg.</td>\n",
              "      <td>3</td>\n",
              "    </tr>\n",
              "    <tr>\n",
              "      <th>65</th>\n",
              "      <td>Brunellia acostae Cuatrec.</td>\n",
              "      <td>24</td>\n",
              "    </tr>\n",
              "    <tr>\n",
              "      <th>66</th>\n",
              "      <td>Cyathea conjugata (Spruce ex Hook.) Domin</td>\n",
              "      <td>88</td>\n",
              "    </tr>\n",
              "    <tr>\n",
              "      <th>67</th>\n",
              "      <td>Cyathea poeppigii (Hook.) Domin</td>\n",
              "      <td>2</td>\n",
              "    </tr>\n",
              "    <tr>\n",
              "      <th>68</th>\n",
              "      <td>Geissanthus ambigua (C.Mart.) G.Agostini</td>\n",
              "      <td>189</td>\n",
              "    </tr>\n",
              "  </tbody>\n",
              "</table>\n",
              "<p>69 rows × 2 columns</p>\n",
              "</div>\n",
              "      <button class=\"colab-df-convert\" onclick=\"convertToInteractive('df-07cca151-cc3b-4739-a2d9-e8952540a271')\"\n",
              "              title=\"Convert this dataframe to an interactive table.\"\n",
              "              style=\"display:none;\">\n",
              "        \n",
              "  <svg xmlns=\"http://www.w3.org/2000/svg\" height=\"24px\"viewBox=\"0 0 24 24\"\n",
              "       width=\"24px\">\n",
              "    <path d=\"M0 0h24v24H0V0z\" fill=\"none\"/>\n",
              "    <path d=\"M18.56 5.44l.94 2.06.94-2.06 2.06-.94-2.06-.94-.94-2.06-.94 2.06-2.06.94zm-11 1L8.5 8.5l.94-2.06 2.06-.94-2.06-.94L8.5 2.5l-.94 2.06-2.06.94zm10 10l.94 2.06.94-2.06 2.06-.94-2.06-.94-.94-2.06-.94 2.06-2.06.94z\"/><path d=\"M17.41 7.96l-1.37-1.37c-.4-.4-.92-.59-1.43-.59-.52 0-1.04.2-1.43.59L10.3 9.45l-7.72 7.72c-.78.78-.78 2.05 0 2.83L4 21.41c.39.39.9.59 1.41.59.51 0 1.02-.2 1.41-.59l7.78-7.78 2.81-2.81c.8-.78.8-2.07 0-2.86zM5.41 20L4 18.59l7.72-7.72 1.47 1.35L5.41 20z\"/>\n",
              "  </svg>\n",
              "      </button>\n",
              "      \n",
              "  <style>\n",
              "    .colab-df-container {\n",
              "      display:flex;\n",
              "      flex-wrap:wrap;\n",
              "      gap: 12px;\n",
              "    }\n",
              "\n",
              "    .colab-df-convert {\n",
              "      background-color: #E8F0FE;\n",
              "      border: none;\n",
              "      border-radius: 50%;\n",
              "      cursor: pointer;\n",
              "      display: none;\n",
              "      fill: #1967D2;\n",
              "      height: 32px;\n",
              "      padding: 0 0 0 0;\n",
              "      width: 32px;\n",
              "    }\n",
              "\n",
              "    .colab-df-convert:hover {\n",
              "      background-color: #E2EBFA;\n",
              "      box-shadow: 0px 1px 2px rgba(60, 64, 67, 0.3), 0px 1px 3px 1px rgba(60, 64, 67, 0.15);\n",
              "      fill: #174EA6;\n",
              "    }\n",
              "\n",
              "    [theme=dark] .colab-df-convert {\n",
              "      background-color: #3B4455;\n",
              "      fill: #D2E3FC;\n",
              "    }\n",
              "\n",
              "    [theme=dark] .colab-df-convert:hover {\n",
              "      background-color: #434B5C;\n",
              "      box-shadow: 0px 1px 3px 1px rgba(0, 0, 0, 0.15);\n",
              "      filter: drop-shadow(0px 1px 2px rgba(0, 0, 0, 0.3));\n",
              "      fill: #FFFFFF;\n",
              "    }\n",
              "  </style>\n",
              "\n",
              "      <script>\n",
              "        const buttonEl =\n",
              "          document.querySelector('#df-07cca151-cc3b-4739-a2d9-e8952540a271 button.colab-df-convert');\n",
              "        buttonEl.style.display =\n",
              "          google.colab.kernel.accessAllowed ? 'block' : 'none';\n",
              "\n",
              "        async function convertToInteractive(key) {\n",
              "          const element = document.querySelector('#df-07cca151-cc3b-4739-a2d9-e8952540a271');\n",
              "          const dataTable =\n",
              "            await google.colab.kernel.invokeFunction('convertToInteractive',\n",
              "                                                     [key], {});\n",
              "          if (!dataTable) return;\n",
              "\n",
              "          const docLinkHtml = 'Like what you see? Visit the ' +\n",
              "            '<a target=\"_blank\" href=https://colab.research.google.com/notebooks/data_table.ipynb>data table notebook</a>'\n",
              "            + ' to learn more about interactive tables.';\n",
              "          element.innerHTML = '';\n",
              "          dataTable['output_type'] = 'display_data';\n",
              "          await google.colab.output.renderOutput(dataTable, element);\n",
              "          const docLink = document.createElement('div');\n",
              "          docLink.innerHTML = docLinkHtml;\n",
              "          element.appendChild(docLink);\n",
              "        }\n",
              "      </script>\n",
              "    </div>\n",
              "  </div>\n",
              "  "
            ]
          },
          "metadata": {},
          "execution_count": 42
        }
      ]
    },
    {
      "cell_type": "code",
      "source": [
        "temp[\"count\"].sum()"
      ],
      "metadata": {
        "colab": {
          "base_uri": "https://localhost:8080/"
        },
        "id": "jmPd_h9Ceuwv",
        "outputId": "636dd01a-9cbd-47db-8c3e-e819237fcb28"
      },
      "id": "jmPd_h9Ceuwv",
      "execution_count": null,
      "outputs": [
        {
          "output_type": "execute_result",
          "data": {
            "text/plain": [
              "11562"
            ]
          },
          "metadata": {},
          "execution_count": 43
        }
      ]
    }
  ],
  "metadata": {
    "colab": {
      "name": "gbif_preprocessing.ipynb",
      "provenance": [],
      "collapsed_sections": []
    },
    "kernelspec": {
      "display_name": "Python 3 (ipykernel)",
      "language": "python",
      "name": "python3"
    },
    "language_info": {
      "codemirror_mode": {
        "name": "ipython",
        "version": 3
      },
      "file_extension": ".py",
      "mimetype": "text/x-python",
      "name": "python",
      "nbconvert_exporter": "python",
      "pygments_lexer": "ipython3",
      "version": "3.9.12"
    }
  },
  "nbformat": 4,
  "nbformat_minor": 5
}